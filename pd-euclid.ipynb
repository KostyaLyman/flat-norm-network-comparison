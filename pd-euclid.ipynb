{
 "cells": [
  {
   "cell_type": "code",
   "execution_count": 1,
   "id": "22d679b8-42e1-48e6-8c75-d59076b4a631",
   "metadata": {},
   "outputs": [],
   "source": [
    "import sys,os\n",
    "import numpy as np\n",
    "import networkx as nx\n",
    "from shapely.geometry import LineString,Point,MultiLineString, LinearRing\n",
    "from itertools import product\n",
    "import matplotlib.pyplot as plt\n",
    "from geographiclib.geodesic import Geodesic\n",
    "import geopandas as gpd\n",
    "from scipy.spatial import Voronoi\n",
    "from itertools import combinations\n",
    "\n",
    "workpath = os.getcwd()\n",
    "figpath = workpath + \"/figs/\"\n",
    "tmppath = workpath + \"/temp/\""
   ]
  },
  {
   "cell_type": "code",
   "execution_count": 3,
   "id": "2b863591",
   "metadata": {},
   "outputs": [],
   "source": [
    "def draw_nodes(ax,graph,nodelist=None,color='red',size=30,alpha=1.0,marker='*'):\n",
    "    if nodelist == None:\n",
    "        nodelist = graph.nodes\n",
    "    d = {'nodes':nodelist,\n",
    "         'geometry':[Point(graph.nodes[n]['cord']) for n in nodelist]}\n",
    "    df_nodes = gpd.GeoDataFrame(d, crs=\"EPSG:4326\")\n",
    "    df_nodes.plot(ax=ax,color=color,markersize=size,alpha=alpha,marker=marker)\n",
    "    return ax\n",
    "\n",
    "def draw_points(ax,points,color='red',size=10,alpha=1.0,marker='o'):\n",
    "    if len(points) == 0:\n",
    "        return ax\n",
    "    if isinstance(points,list):\n",
    "        d = {'nodes':range(len(points)),\n",
    "             'geometry':[pt_geom for pt_geom in points]}\n",
    "    elif isinstance(points,dict):\n",
    "        d = {'nodes':range(len(points)),\n",
    "             'geometry':[points[k] for k in points]}\n",
    "    df_nodes = gpd.GeoDataFrame(d, crs=\"EPSG:4326\")\n",
    "    df_nodes.plot(ax=ax,color=color,markersize=size,alpha=alpha,marker=marker)\n",
    "    return ax\n",
    "\n",
    "def draw_edges(ax,graph,edgelist=None,color='red',width=2.0,style='solid',\n",
    "               alpha=1.0):\n",
    "    if edgelist == []:\n",
    "        return ax\n",
    "    if edgelist == None:\n",
    "        edgelist = graph.edges\n",
    "    d = {'edges':edgelist,\n",
    "         'geometry':[graph.edges[e]['geometry'] for e in edgelist]}\n",
    "    df_edges = gpd.GeoDataFrame(d, crs=\"EPSG:4326\")\n",
    "    df_edges.plot(ax=ax,edgecolor=color,linewidth=width,\n",
    "                  linestyle=style,alpha=alpha)\n",
    "    return ax\n",
    "\n",
    "def draw_lines(ax,lines,color='red',width=2.0,style='solid',alpha=1.0):\n",
    "    if isinstance(lines,LineString):\n",
    "        lines = [lines]\n",
    "    if len(lines) == 0:\n",
    "        return ax\n",
    "    d = {'edges':range(len(lines)),\n",
    "         'geometry':[line_geom for line_geom in lines]}\n",
    "    df_edges = gpd.GeoDataFrame(d, crs=\"EPSG:4326\")\n",
    "    df_edges.plot(ax=ax,edgecolor=color,linewidth=width,\n",
    "                  linestyle=style,alpha=alpha)\n",
    "    return ax"
   ]
  },
  {
   "cell_type": "code",
   "execution_count": 78,
   "id": "0a3edfd7",
   "metadata": {},
   "outputs": [],
   "source": [
    "# interpolate points along each graph\n",
    "def interpolate_points(lines,num_pts=100,ref='A'):\n",
    "    points = {}\n",
    "    for i,line_geom in enumerate(lines):\n",
    "        dist = 1/num_pts\n",
    "        start_ind = (i*num_pts)\n",
    "        for f in range(num_pts+1):\n",
    "            x,y = line_geom.interpolate(f*dist,normalized=True).xy\n",
    "            xy = (x[0],y[0])\n",
    "            points[ref+str(start_ind+f)] = Point(xy)\n",
    "    return points\n",
    "\n",
    "def get_cech_edge(pts,radius):\n",
    "    edges = []\n",
    "    for i,j in combinations(pts,2):\n",
    "        buf_i = pts[i].buffer(radius)\n",
    "        buf_j = pts[j].buffer(radius)\n",
    "        if buf_i.intersects(buf_j):\n",
    "            edges.append((i,j))\n",
    "    return edges\n",
    "\n",
    "def get_cech_triangle(pts,radius):\n",
    "    triangles = []\n",
    "    for i,j,k in combinations(pts,3):\n",
    "        buf_i = pts[i].buffer(radius)\n",
    "        buf_j = pts[j].buffer(radius)\n",
    "        buf_k = pts[k].buffer(radius)\n",
    "        if buf_i.intersection(buf_j).intersects(buf_k):\n",
    "            triangles.append((i,j,k))\n",
    "    return triangles\n",
    "    "
   ]
  },
  {
   "cell_type": "code",
   "execution_count": 42,
   "id": "381a9233-55f8-4e5e-9762-082811093872",
   "metadata": {},
   "outputs": [],
   "source": [
    "# Graph A\n",
    "edges_A = [(1,2),(2,3)]\n",
    "cords_A = {1:(-1,0.5), 2:(0,1), 3:(1,0.5)}\n",
    "edge_geom_A = {e:LineString([cords_A[e[0]],cords_A[e[1]]]) for e in edges_A}\n",
    "\n",
    "A = nx.Graph()\n",
    "A.add_edges_from(edges_A)\n",
    "nx.set_edge_attributes(A,edge_geom_A,'geometry')\n",
    "nx.set_node_attributes(A,cords_A,'cord')\n",
    "geom_A = [A.edges[e]['geometry'] for e in A.edges]\n",
    "\n",
    "# Graph B\n",
    "edges_B = [(11,12),(12,13),(13,14),(14,15)]\n",
    "cords_B = {11:(-1,0.25), 12:(-0.5,0.75), 13:(0,1), 14:(0.5,0.6), 15:(1,0.5)}\n",
    "edge_geom_B = {e:LineString([cords_B[e[0]],cords_B[e[1]]]) for e in edges_B}\n",
    "\n",
    "B = nx.Graph()\n",
    "B.add_edges_from(edges_B)\n",
    "nx.set_edge_attributes(B,edge_geom_B,'geometry')\n",
    "nx.set_node_attributes(B,cords_B,'cord')\n",
    "geom_B = [B.edges[e]['geometry'] for e in B.edges]\n",
    "\n",
    "\n",
    "pts_A = interpolate_points(geom_A,num_pts=10,ref='A')\n",
    "pts_B = interpolate_points(geom_B,num_pts=10,ref='B')\n",
    "pts = {}\n",
    "for pt in pts_A:\n",
    "    pts[pt] = pts_A[pt]\n",
    "for pt in pts_B:\n",
    "    pts[pt] = pts_B[pt]"
   ]
  },
  {
   "cell_type": "code",
   "execution_count": 79,
   "id": "bf00341e",
   "metadata": {},
   "outputs": [
    {
     "name": "stdout",
     "output_type": "stream",
     "text": [
      "0 0\n",
      "251 419\n",
      "559 2429\n",
      "827 5680\n",
      "1078 10125\n",
      "1297 15295\n",
      "1510 21620\n",
      "1671 27482\n",
      "1780 32154\n",
      "1852 35672\n"
     ]
    }
   ],
   "source": [
    "for epsilon in range(10):\n",
    "    rad = epsilon*0.1\n",
    "    c_edges = get_cech_edge(pts,rad)\n",
    "    c_triangles = get_cech_triangle(pts,rad)\n",
    "    print(len(c_edges),len(c_triangles))\n"
   ]
  },
  {
   "cell_type": "code",
   "execution_count": 34,
   "id": "725fcdeb-4533-4b30-9180-679d0666b612",
   "metadata": {},
   "outputs": [
    {
     "data": {
      "text/plain": [
       "<AxesSubplot:>"
      ]
     },
     "execution_count": 34,
     "metadata": {},
     "output_type": "execute_result"
    },
    {
     "data": {
      "image/png": "[encoded data removed]",
      "text/plain": [
       "<Figure size 1440x720 with 2 Axes>"
      ]
     },
     "metadata": {
      "needs_background": "light"
     },
     "output_type": "display_data"
    }
   ],
   "source": [
    "fig = plt.figure(figsize=(20,10))\n",
    "ax1 = fig.add_subplot(1,2,1)\n",
    "\n",
    "draw_edges(ax1,A,color='red',width=2.0,style='solid')\n",
    "draw_edges(ax1,B,color='blue',width=2.0,style='solid')\n",
    "draw_nodes(ax1,A,color='red',size=30,marker='s',alpha=0.6)\n",
    "draw_nodes(ax1,B,color='blue',size=30,marker='o')\n",
    "\n",
    "ax2 = fig.add_subplot(1,2,2)\n",
    "draw_points(ax2,pts_A,color='red',size=15,alpha=0.6,marker='D')\n",
    "draw_points(ax2,pts_B,color='blue',size=15,alpha=0.6,marker='o')\n",
    "\n"
   ]
  },
  {
   "cell_type": "code",
   "execution_count": 2,
   "id": "a3891728-8a0d-4058-823c-05c799d20833",
   "metadata": {},
   "outputs": [],
   "source": [
    "def interpolate(line_geom,num_pts=100,ref='A'):\n",
    "    points = {}\n",
    "    dist = 1/num_pts\n",
    "    for f in range(num_pts+1):\n",
    "        x,y = line_geom.interpolate(f*dist,normalized=True).xy\n",
    "        xy = (x[0],y[0])\n",
    "        points[ref+str(f)] = Point(xy)\n",
    "    return points\n",
    "\n",
    "def get_arcs(seed,radius,geom):\n",
    "    # Get number of points to be interpolated\n",
    "    n_pts = 2*len(geom) + 1\n",
    "    \n",
    "    # Construct the linear ring and interpolate points\n",
    "    lr = LinearRing(seed.buffer(radius).exterior.coords)\n",
    "    pts = [lr.interpolate((i/n_pts),normalized=True) for i in range(n_pts+1)]\n",
    "    \n",
    "    # Construct the edgelist\n",
    "    arc_geom = [LineString([pts[k],pts[k+1]]) for k in range(n_pts)]\n",
    "    return arc_geom\n"
   ]
  },
  {
   "cell_type": "code",
   "execution_count": 4,
   "id": "cc02f77b-ad50-494a-a576-ec3fb4bf7e0a",
   "metadata": {},
   "outputs": [],
   "source": [
    "#%% Skeletons\n",
    "def intersect(geom_a,geom_b,eps):\n",
    "    return geom_a.buffer(eps).intersects(geom_b.buffer(eps))\n",
    "\n",
    "def intersection(geom_a,geom_b,eps=1e-4):\n",
    "    return geom_a.buffer(eps).intersection(geom_b.buffer(eps)).boundary\n",
    "\n",
    "def alter_slope(line,eps=1e-3):\n",
    "    return LineString([Point(line.coords[0]),Point(line.coords[1][0],line.coords[1][1]+eps)])\n",
    "\n",
    "def voronoi_bisector(line1,line2,num_pts=20):\n",
    "    pts_A = interpolate(line1,num_pts,ref='A')\n",
    "    pts_B = interpolate(line2,num_pts,ref='B')\n",
    "    \n",
    "    pA = np.array([(pts_A[k].x,pts_A[k].y) for k in pts_A])\n",
    "    pB = np.array([(pts_B[k].x,pts_B[k].y) for k in pts_B])\n",
    "    points = np.concatenate((pA,pB))\n",
    "    \n",
    "    try:\n",
    "        vor = Voronoi(points)\n",
    "    except:\n",
    "        line2_alt = alter_slope(line2,eps=1e-3)\n",
    "        pts_B = interpolate(line2_alt,num_pts,ref='B')\n",
    "        pB = np.array([(pts_B[k].x,pts_B[k].y) for k in pts_B])\n",
    "        points = np.concatenate((pA,pB))\n",
    "        vor = Voronoi(points)\n",
    "        \n",
    "    lines = [LineString(vor.vertices[line]) for line in vor.ridge_vertices \\\n",
    "             if -1 not in line]\n",
    "    return MultiLineString(lines)\n",
    "\n",
    "def voronoi_ridge(line1,line2,line3,num_pts=20):\n",
    "    pts_A = interpolate(line1,num_pts,ref='A')\n",
    "    pts_B = interpolate(line2,num_pts,ref='B')\n",
    "    pts_C = interpolate(line3,num_pts,ref='C')\n",
    "    \n",
    "    pA = np.array([(pts_A[k].x,pts_A[k].y) for k in pts_A])\n",
    "    pB = np.array([(pts_B[k].x,pts_B[k].y) for k in pts_B])\n",
    "    pC = np.array([(pts_C[k].x,pts_C[k].y) for k in pts_C])\n",
    "    points = np.concatenate((pA,pB,pC))\n",
    "    \n",
    "    vor = Voronoi(points)\n",
    "    lines = [LineString(vor.vertices[line]) for line in vor.ridge_vertices \\\n",
    "             if -1 not in line]\n",
    "    return MultiLineString(lines)\n",
    "\n",
    "def one_skeleton(geom):\n",
    "    return {(i,j):geom[i].distance(geom[j]) for i in range(len(geom)) \\\n",
    "            for j in range(len(geom))}\n",
    "\n",
    "def two_skeleton(geom):\n",
    "    for i in range(len(geom)):\n",
    "        for j in range(len(geom)):\n",
    "            if i==j:\n",
    "                b_ij = geom[i]\n",
    "            else:\n",
    "                b_ij = voronoi_bisector(geom[i],geom[j])\n",
    "    "
   ]
  },
  {
   "cell_type": "code",
   "execution_count": 5,
   "id": "054d3ef2",
   "metadata": {},
   "outputs": [
    {
     "name": "stderr",
     "output_type": "stream",
     "text": [
      "C:\\Users\\rm5nz\\AppData\\Local\\Temp\\ipykernel_15472\\419573778.py:39: ShapelyDeprecationWarning: __len__ for multi-part geometries is deprecated and will be removed in Shapely 2.0. Check the length of the `geoms` property instead to get the  number of parts of a multi-part geometry.\n",
      "  if len(lines) == 0:\n",
      "C:\\Users\\rm5nz\\AppData\\Local\\Temp\\ipykernel_15472\\419573778.py:41: ShapelyDeprecationWarning: __len__ for multi-part geometries is deprecated and will be removed in Shapely 2.0. Check the length of the `geoms` property instead to get the  number of parts of a multi-part geometry.\n",
      "  d = {'edges':range(len(lines)),\n",
      "C:\\Users\\rm5nz\\AppData\\Local\\Temp\\ipykernel_15472\\419573778.py:42: ShapelyDeprecationWarning: Iteration over multi-part geometries is deprecated and will be removed in Shapely 2.0. Use the `geoms` property to access the constituent parts of a multi-part geometry.\n",
      "  'geometry':[line_geom for line_geom in lines]}\n"
     ]
    },
    {
     "data": {
      "text/plain": [
       "<AxesSubplot:>"
      ]
     },
     "execution_count": 5,
     "metadata": {},
     "output_type": "execute_result"
    },
    {
     "data": {
      "image/png": "[encoded data removed]",
      "text/plain": [
       "<Figure size 360x360 with 1 Axes>"
      ]
     },
     "metadata": {
      "needs_background": "light"
     },
     "output_type": "display_data"
    }
   ],
   "source": [
    "edge1 = LineString([Point(0,0),Point(1,0)])\n",
    "edge2 = LineString([Point(-2,1),Point(3,1)])\n",
    "\n",
    "fig = plt.figure(figsize=(5,5))\n",
    "ax = fig.add_subplot(1,1,1)\n",
    "draw_lines(ax,[edge1,edge2],color='green',alpha=0.8)\n",
    "\n",
    "bisector = voronoi_bisector(edge1, edge2)\n",
    "draw_lines(ax, bisector, color='blue')\n"
   ]
  },
  {
   "cell_type": "code",
   "execution_count": 6,
   "id": "23084398",
   "metadata": {},
   "outputs": [
    {
     "name": "stderr",
     "output_type": "stream",
     "text": [
      "C:\\Users\\rm5nz\\AppData\\Local\\Temp\\ipykernel_15472\\419573778.py:39: ShapelyDeprecationWarning: __len__ for multi-part geometries is deprecated and will be removed in Shapely 2.0. Check the length of the `geoms` property instead to get the  number of parts of a multi-part geometry.\n",
      "  if len(lines) == 0:\n",
      "C:\\Users\\rm5nz\\AppData\\Local\\Temp\\ipykernel_15472\\419573778.py:41: ShapelyDeprecationWarning: __len__ for multi-part geometries is deprecated and will be removed in Shapely 2.0. Check the length of the `geoms` property instead to get the  number of parts of a multi-part geometry.\n",
      "  d = {'edges':range(len(lines)),\n",
      "C:\\Users\\rm5nz\\AppData\\Local\\Temp\\ipykernel_15472\\419573778.py:42: ShapelyDeprecationWarning: Iteration over multi-part geometries is deprecated and will be removed in Shapely 2.0. Use the `geoms` property to access the constituent parts of a multi-part geometry.\n",
      "  'geometry':[line_geom for line_geom in lines]}\n"
     ]
    },
    {
     "data": {
      "image/png": "[encoded data removed]",
      "text/plain": [
       "<Figure size 360x360 with 1 Axes>"
      ]
     },
     "metadata": {
      "needs_background": "light"
     },
     "output_type": "display_data"
    }
   ],
   "source": [
    "edge1 = LineString([Point(0,0),Point(1,0)])\n",
    "edge2 = LineString([Point(2,0),Point(3,1)])\n",
    "\n",
    "fig = plt.figure(figsize=(5,5))\n",
    "ax = fig.add_subplot(1,1,1)\n",
    "draw_lines(ax,[edge1,edge2],color='green',alpha=0.8)\n",
    "\n",
    "bisector = voronoi_bisector(edge1, edge2)\n",
    "ax = draw_lines(ax, bisector, color='blue')"
   ]
  },
  {
   "cell_type": "code",
   "execution_count": 7,
   "id": "9816579c",
   "metadata": {},
   "outputs": [
    {
     "name": "stderr",
     "output_type": "stream",
     "text": [
      "C:\\Users\\rm5nz\\AppData\\Local\\Temp\\ipykernel_15472\\419573778.py:39: ShapelyDeprecationWarning: __len__ for multi-part geometries is deprecated and will be removed in Shapely 2.0. Check the length of the `geoms` property instead to get the  number of parts of a multi-part geometry.\n",
      "  if len(lines) == 0:\n",
      "C:\\Users\\rm5nz\\AppData\\Local\\Temp\\ipykernel_15472\\419573778.py:41: ShapelyDeprecationWarning: __len__ for multi-part geometries is deprecated and will be removed in Shapely 2.0. Check the length of the `geoms` property instead to get the  number of parts of a multi-part geometry.\n",
      "  d = {'edges':range(len(lines)),\n",
      "C:\\Users\\rm5nz\\AppData\\Local\\Temp\\ipykernel_15472\\419573778.py:42: ShapelyDeprecationWarning: Iteration over multi-part geometries is deprecated and will be removed in Shapely 2.0. Use the `geoms` property to access the constituent parts of a multi-part geometry.\n",
      "  'geometry':[line_geom for line_geom in lines]}\n"
     ]
    },
    {
     "data": {
      "text/plain": [
       "<AxesSubplot:>"
      ]
     },
     "execution_count": 7,
     "metadata": {},
     "output_type": "execute_result"
    },
    {
     "data": {
      "image/png": "[encoded data removed]",
      "text/plain": [
       "<Figure size 720x720 with 1 Axes>"
      ]
     },
     "metadata": {
      "needs_background": "light"
     },
     "output_type": "display_data"
    }
   ],
   "source": [
    "edge1 = LineString([Point(0,0),Point(1,0)])\n",
    "edge2 = LineString([Point(2,0),Point(3,0)])\n",
    "\n",
    "fig = plt.figure(figsize=(10,10))\n",
    "ax = fig.add_subplot(1,1,1)\n",
    "draw_lines(ax,[edge1,edge2],color='green',alpha=0.8)\n",
    "\n",
    "bisector = voronoi_bisector(edge1, edge2)\n",
    "draw_lines(ax, bisector, color='blue')"
   ]
  },
  {
   "cell_type": "code",
   "execution_count": 8,
   "id": "4554050e",
   "metadata": {},
   "outputs": [
    {
     "name": "stderr",
     "output_type": "stream",
     "text": [
      "C:\\Users\\rm5nz\\AppData\\Local\\Temp\\ipykernel_15472\\419573778.py:39: ShapelyDeprecationWarning: __len__ for multi-part geometries is deprecated and will be removed in Shapely 2.0. Check the length of the `geoms` property instead to get the  number of parts of a multi-part geometry.\n",
      "  if len(lines) == 0:\n",
      "C:\\Users\\rm5nz\\AppData\\Local\\Temp\\ipykernel_15472\\419573778.py:41: ShapelyDeprecationWarning: __len__ for multi-part geometries is deprecated and will be removed in Shapely 2.0. Check the length of the `geoms` property instead to get the  number of parts of a multi-part geometry.\n",
      "  d = {'edges':range(len(lines)),\n",
      "C:\\Users\\rm5nz\\AppData\\Local\\Temp\\ipykernel_15472\\419573778.py:42: ShapelyDeprecationWarning: Iteration over multi-part geometries is deprecated and will be removed in Shapely 2.0. Use the `geoms` property to access the constituent parts of a multi-part geometry.\n",
      "  'geometry':[line_geom for line_geom in lines]}\n",
      "C:\\Users\\rm5nz\\AppData\\Local\\Temp\\ipykernel_15472\\419573778.py:39: ShapelyDeprecationWarning: __len__ for multi-part geometries is deprecated and will be removed in Shapely 2.0. Check the length of the `geoms` property instead to get the  number of parts of a multi-part geometry.\n",
      "  if len(lines) == 0:\n",
      "C:\\Users\\rm5nz\\AppData\\Local\\Temp\\ipykernel_15472\\419573778.py:41: ShapelyDeprecationWarning: __len__ for multi-part geometries is deprecated and will be removed in Shapely 2.0. Check the length of the `geoms` property instead to get the  number of parts of a multi-part geometry.\n",
      "  d = {'edges':range(len(lines)),\n",
      "C:\\Users\\rm5nz\\AppData\\Local\\Temp\\ipykernel_15472\\419573778.py:42: ShapelyDeprecationWarning: Iteration over multi-part geometries is deprecated and will be removed in Shapely 2.0. Use the `geoms` property to access the constituent parts of a multi-part geometry.\n",
      "  'geometry':[line_geom for line_geom in lines]}\n",
      "C:\\Users\\rm5nz\\AppData\\Local\\Temp\\ipykernel_15472\\419573778.py:39: ShapelyDeprecationWarning: __len__ for multi-part geometries is deprecated and will be removed in Shapely 2.0. Check the length of the `geoms` property instead to get the  number of parts of a multi-part geometry.\n",
      "  if len(lines) == 0:\n",
      "C:\\Users\\rm5nz\\AppData\\Local\\Temp\\ipykernel_15472\\419573778.py:41: ShapelyDeprecationWarning: __len__ for multi-part geometries is deprecated and will be removed in Shapely 2.0. Check the length of the `geoms` property instead to get the  number of parts of a multi-part geometry.\n",
      "  d = {'edges':range(len(lines)),\n",
      "C:\\Users\\rm5nz\\AppData\\Local\\Temp\\ipykernel_15472\\419573778.py:42: ShapelyDeprecationWarning: Iteration over multi-part geometries is deprecated and will be removed in Shapely 2.0. Use the `geoms` property to access the constituent parts of a multi-part geometry.\n",
      "  'geometry':[line_geom for line_geom in lines]}\n",
      "C:\\Users\\rm5nz\\AppData\\Local\\Temp\\ipykernel_15472\\419573778.py:39: ShapelyDeprecationWarning: __len__ for multi-part geometries is deprecated and will be removed in Shapely 2.0. Check the length of the `geoms` property instead to get the  number of parts of a multi-part geometry.\n",
      "  if len(lines) == 0:\n",
      "C:\\Users\\rm5nz\\AppData\\Local\\Temp\\ipykernel_15472\\419573778.py:41: ShapelyDeprecationWarning: __len__ for multi-part geometries is deprecated and will be removed in Shapely 2.0. Check the length of the `geoms` property instead to get the  number of parts of a multi-part geometry.\n",
      "  d = {'edges':range(len(lines)),\n",
      "C:\\Users\\rm5nz\\AppData\\Local\\Temp\\ipykernel_15472\\419573778.py:42: ShapelyDeprecationWarning: Iteration over multi-part geometries is deprecated and will be removed in Shapely 2.0. Use the `geoms` property to access the constituent parts of a multi-part geometry.\n",
      "  'geometry':[line_geom for line_geom in lines]}\n"
     ]
    },
    {
     "data": {
      "text/plain": [
       "(0.0, 10.0)"
      ]
     },
     "execution_count": 8,
     "metadata": {},
     "output_type": "execute_result"
    },
    {
     "data": {
      "image/png": "[encoded data removed]",
      "text/plain": [
       "<Figure size 720x360 with 2 Axes>"
      ]
     },
     "metadata": {
      "needs_background": "light"
     },
     "output_type": "display_data"
    }
   ],
   "source": [
    "edge1 = LineString([Point(3,1),Point(5,3)])\n",
    "edge2 = LineString([Point(0,3),Point(2,5)])\n",
    "edge3 = LineString([Point(7,0),Point(7,10)])\n",
    "\n",
    "fig = plt.figure(figsize=(10,5))\n",
    "ax = fig.add_subplot(1,2,1)\n",
    "draw_lines(ax,[edge1,edge2,edge3],color='green',alpha=0.8)\n",
    "\n",
    "bisector = voronoi_ridge(edge1,edge2,edge3)\n",
    "draw_lines(ax, bisector, color='orange')\n",
    "ax.set_xlim(0,8)\n",
    "ax.set_ylim(0,10)\n",
    "\n",
    "ax = fig.add_subplot(1,2,2)\n",
    "draw_lines(ax,[edge1,edge2,edge3],color='green',alpha=0.8)\n",
    "\n",
    "\n",
    "bisector_1 = voronoi_bisector(edge1, edge3)\n",
    "bisector_2 = voronoi_bisector(edge1, edge2)\n",
    "bisector_3 = voronoi_bisector(edge2, edge3)\n",
    "draw_lines(ax, bisector_1, color='blue')\n",
    "draw_lines(ax, bisector_2, color='magenta')\n",
    "draw_lines(ax, bisector_3, color='red')\n",
    "ax.set_xlim(0,8)\n",
    "ax.set_ylim(0,10)"
   ]
  },
  {
   "cell_type": "code",
   "execution_count": 9,
   "id": "6fdbc336",
   "metadata": {},
   "outputs": [
    {
     "name": "stdout",
     "output_type": "stream",
     "text": [
      "LINESTRING (3.299999999999997 3.799999999999997, 5.564285714285714 1.535714285714289)\n"
     ]
    },
    {
     "name": "stderr",
     "output_type": "stream",
     "text": [
      "C:\\Users\\rm5nz\\AppData\\Local\\Temp\\ipykernel_15472\\1823718050.py:1: ShapelyDeprecationWarning: __getitem__ for multi-part geometries is deprecated and will be removed in Shapely 2.0. Use the `geoms` property to access the constituent parts of a multi-part geometry.\n",
      "  print(bisector[0])\n"
     ]
    }
   ],
   "source": [
    "print(bisector[0])"
   ]
  },
  {
   "cell_type": "code",
   "execution_count": null,
   "id": "5a1afec2",
   "metadata": {},
   "outputs": [],
   "source": [
    "# Graph A\n",
    "edges_A = [(1,2),(2,9),(9,10),(10,3),(3,4),(2,5),(2,6),(3,7),(3,8)]\n",
    "cords_A = {1:(-2,0.125), 2:(-1.125,0.125), 5:(-1.125,1.025), 6:(-1.125,-1),\n",
    "           3:(1.125,-0.125), 4:(2,-0.125), 7:(1.125,1.025), 8:(1.125,-1),\n",
    "           9:(0,0.125), 10:(0,-0.125)}\n",
    "edge_geom_A = {e:LineString([cords_A[e[0]],cords_A[e[1]]]) for e in edges_A}\n",
    "\n",
    "A = nx.Graph()\n",
    "A.add_edges_from(edges_A)\n",
    "nx.set_edge_attributes(A,edge_geom_A,'geometry')\n",
    "nx.set_node_attributes(A,cords_A,'cord')\n",
    "geom_A = [A.edges[e]['geometry'] for e in A.edges]\n",
    "\n",
    "# Graph B\n",
    "edges_B = [(11,12),(12,13),(13,14),(12,15),(12,16),(13,17),(13,18)]\n",
    "cords_B = {11:(-2,0), 12:(-1,0), 15:(-1,1), 16:(-1,-1),\n",
    "           13:(1,0), 14:(2,0), 17:(1,1), 18:(1,-1)}\n",
    "edge_geom_B = {e:LineString([cords_B[e[0]],cords_B[e[1]]]) for e in edges_B}\n",
    "\n",
    "B = nx.Graph()\n",
    "B.add_edges_from(edges_B)\n",
    "nx.set_edge_attributes(B,edge_geom_B,'geometry')\n",
    "nx.set_node_attributes(B,cords_B,'cord')\n",
    "geom_B = [B.edges[e]['geometry'] for e in B.edges]"
   ]
  }
 ],
 "metadata": {
  "kernelspec": {
   "display_name": "Python 3 (ipykernel)",
   "language": "python",
   "name": "python3"
  },
  "language_info": {
   "codemirror_mode": {
    "name": "ipython",
    "version": 3
   },
   "file_extension": ".py",
   "mimetype": "text/x-python",
   "name": "python",
   "nbconvert_exporter": "python",
   "pygments_lexer": "ipython3",
   "version": "3.9.12"
  }
 },
 "nbformat": 4,
 "nbformat_minor": 5
}
