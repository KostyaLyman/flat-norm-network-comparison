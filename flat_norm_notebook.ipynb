{
 "cells": [
  {
   "cell_type": "markdown",
   "source": [
    "# init"
   ],
   "metadata": {
    "collapsed": false,
    "pycharm": {
     "name": "#%% md\n"
    }
   }
  },
  {
   "cell_type": "code",
   "execution_count": null,
   "metadata": {
    "collapsed": true,
    "pycharm": {
     "name": "#%%\n"
    }
   },
   "outputs": [],
   "source": [
    "import sys, os\n",
    "import numpy as np\n",
    "import pandas as pd\n",
    "from shapely.geometry import Point, LineString, MultiLineString, base as sg\n",
    "from matplotlib import pyplot as plt, axes\n",
    "from timeit import default_timer as timer\n",
    "from datetime import timedelta\n",
    "from pprint import pprint\n",
    "\n",
    "\n",
    "from flat_norm_fixture import FlatNormFixture\n",
    "\n",
    "\n",
    "fx = FlatNormFixture('runTest')\n"
   ]
  },
  {
   "cell_type": "markdown",
   "source": [
    "# plot regions"
   ],
   "metadata": {
    "collapsed": false,
    "pycharm": {
     "name": "#%% md\n"
    }
   }
  },
  {
   "cell_type": "markdown",
   "source": [
    "## sample_regions"
   ],
   "metadata": {
    "collapsed": false,
    "pycharm": {
     "name": "#%% md\n"
    }
   }
  },
  {
   "cell_type": "code",
   "execution_count": null,
   "outputs": [],
   "source": [
    "area = 'mcbryde'\n",
    "epsilon = 2e-3\n",
    "num_regions = 6\n",
    "region = 2\n",
    "\n",
    "# read geometries\n",
    "act_geom, synt_geom, hull = fx.read_networks(area)\n",
    "\n",
    "# sample regions\n",
    "point_list, region_list = fx.sample_regions(\n",
    "    hull, num_regions=num_regions, epsilon=epsilon, seed=54321\n",
    ")\n",
    "\n",
    "# plot regions\n",
    "fx.fig_dir = \"figs/notebooks\"\n",
    "fig, ax = fx.plot_regions_list(\n",
    "    act_geom, synt_geom, region_list, area,\n",
    "    show=True,\n",
    "    region_highlight=region,\n",
    "    file_name_sfx=f\"sr_region_{region}\",\n",
    "    figsize=(40, 20),\n",
    "    do_return=True\n",
    ")"
   ],
   "metadata": {
    "collapsed": false,
    "pycharm": {
     "name": "#%%\n"
    }
   }
  },
  {
   "cell_type": "markdown",
   "source": [
    "## sample_regions_geom"
   ],
   "metadata": {
    "collapsed": false,
    "pycharm": {
     "name": "#%% md\n"
    }
   }
  },
  {
   "cell_type": "code",
   "execution_count": null,
   "outputs": [],
   "source": [
    "area = 'mcbryde'\n",
    "epsilon = 2e-3\n",
    "num_regions = 6\n",
    "region = 2\n",
    "\n",
    "# read geometries\n",
    "act_geom, synt_geom, hull = fx.read_networks(area)\n",
    "\n",
    "# sample regions\n",
    "point_list, region_list = fx.sample_regions_geom(\n",
    "    hull, act_geom, synt_geom,\n",
    "    num_regions=num_regions, epsilon=epsilon,\n",
    "    seed=54321\n",
    ")\n",
    "\n",
    "# plot regions\n",
    "fx.fig_dir = \"figs/notebooks\"\n",
    "fig, ax = fx.plot_regions_list(\n",
    "    act_geom, synt_geom, region_list, area,\n",
    "    show=True,\n",
    "    region_highlight=region,\n",
    "    file_name_sfx=f\"srgeom_region_{region}\",\n",
    "    figsize=(40, 20),\n",
    "    do_return=True\n",
    ")"
   ],
   "metadata": {
    "collapsed": false,
    "pycharm": {
     "name": "#%%\n"
    }
   }
  },
  {
   "cell_type": "code",
   "execution_count": null,
   "outputs": [],
   "source": [],
   "metadata": {
    "collapsed": false,
    "pycharm": {
     "name": "#%%\n"
    }
   }
  },
  {
   "cell_type": "code",
   "execution_count": null,
   "outputs": [],
   "source": [],
   "metadata": {
    "collapsed": false,
    "pycharm": {
     "name": "#%%\n"
    }
   }
  },
  {
   "cell_type": "markdown",
   "source": [
    "# compute_and_plot_region_flatnorm"
   ],
   "metadata": {
    "collapsed": false,
    "pycharm": {
     "name": "#%% md\n"
    }
   }
  },
  {
   "cell_type": "code",
   "execution_count": null,
   "outputs": [],
   "source": [
    "area = 'mcbryde'\n",
    "epsilon, lambda_ = 2e-3, 1000\n",
    "num_regions = 6\n",
    "region = 2\n",
    "fx.seed=54321\n",
    "\n",
    "# read geometries\n",
    "act_geom, synt_geom, hull = fx.read_networks(area)\n",
    "\n",
    "# sample regions\n",
    "point_list, region_list = fx.sample_regions(\n",
    "    hull, num_regions=num_regions, epsilon=epsilon, seed=fx.seed\n",
    ")\n",
    "\n",
    "# plot regions\n",
    "fx.fig_dir = \"figs/notebooks\"\n",
    "fx.plot_regions_list(\n",
    "    act_geom, synt_geom, region_list, area,\n",
    "    region_highlight=region,\n",
    "    file_name_sfx=f\"sg_region_{region}\",\n",
    "    do_return=False,\n",
    "    figsize=(40, 20)\n",
    ")\n",
    "\n",
    "# flat norm\n",
    "norm, enorm, tnorm, w, plot_data = fx.compute_region_flatnorm(\n",
    "    region_list[region], act_geom, synt_geom,\n",
    "    lambda_=lambda_,\n",
    "    normalized=True,\n",
    "    plot=True\n",
    ")\n",
    "\n",
    "# plot flat norm\n",
    "fx.plot_triangulated_region_flatnorm(\n",
    "    epsilon=epsilon, lambda_=lambda_,\n",
    "    to_file=f\"{area}-flatnorm_region_{region}\",\n",
    "    suptitle_sfx=f\"FN={norm:0.5f} : |T| = {w:0.5f} : |T| / $\\\\epsilon$ = {w / epsilon:0.5f}\",\n",
    "    do_return=False, show=True,\n",
    "    **plot_data\n",
    ")\n"
   ],
   "metadata": {
    "collapsed": false,
    "pycharm": {
     "name": "#%%\n"
    }
   }
  },
  {
   "cell_type": "markdown",
   "source": [
    "# plot region flatnorm lines"
   ],
   "metadata": {
    "collapsed": false,
    "pycharm": {
     "name": "#%% md\n"
    }
   }
  },
  {
   "cell_type": "code",
   "execution_count": null,
   "outputs": [],
   "source": [
    "area = 'mcbryde'\n",
    "epsilons, lambdas = np.linspace(5e-4, 2e-3, 4), np.linspace(1000, 100000, 5)\n",
    "num_regions = 6\n",
    "region = 2\n",
    "fx.seed=54321\n",
    "\n",
    "# read geometries\n",
    "act_geom, synt_geom, hull = fx.read_networks(area)\n",
    "\n",
    "points, regions = fx.sample_regions_geom(\n",
    "    hull, act_geom, synt_geom,\n",
    "    epsilon=epsilons[0],\n",
    "    num_regions=num_regions,\n",
    "    seed=fx.seed\n",
    ")\n",
    "\n",
    "# plot regions\n",
    "fx.fig_dir = \"figs/test\"\n",
    "fx.plot_regions_list(\n",
    "    act_geom, synt_geom, regions, area,\n",
    "    region_highlight=region,\n",
    "    file_name_sfx=f\"_region_{region}\",\n",
    "    do_return=False, show=True,\n",
    "    figsize=(40, 20)\n",
    ")\n",
    "\n",
    "# flat norm\n",
    "flatnorm_data = {\n",
    "    'epsilons': [], 'lambdas': [], 'flatnorms': [],\n",
    "    'norm_lengths': [], 'norm_areas': []\n",
    "}\n",
    "\n",
    "start = timer()\n",
    "for epsilon in epsilons:\n",
    "    for lambda_ in lambdas:\n",
    "        norm, enorm, tnorm, w = fx.compute_region_flatnorm(\n",
    "            fx.get_region(points[region], epsilon),\n",
    "            act_geom, synt_geom,\n",
    "            lambda_=lambda_,\n",
    "            normalized=True,\n",
    "            plot=False\n",
    "        )\n",
    "        flatnorm_data['epsilons'].append(f\"{epsilon:0.4f}\")\n",
    "        flatnorm_data['lambdas'].append(lambda_)\n",
    "        flatnorm_data['flatnorms'].append(norm)\n",
    "        flatnorm_data['norm_lengths'].append(enorm)\n",
    "        flatnorm_data['norm_areas'].append(tnorm)\n",
    "\n",
    "end = timer()\n",
    "\n",
    "fig, ax = fx.plot_region_flatnorm_lines(\n",
    "    epsilons=flatnorm_data['epsilons'],\n",
    "    lambdas=flatnorm_data['lambdas'],\n",
    "    flatnorms=flatnorm_data['flatnorms'],\n",
    "    to_file=f\"{area}-flatnorm-lines_region_{region}\",\n",
    "    do_return=True\n",
    ")\n",
    "\n",
    "print(\"--------------------------------------------------------------------------\")\n",
    "print(f\"compute region flatnorm \"\n",
    "      f\"for {len(epsilons)} epsilons \"\n",
    "      f\"and {len(lambdas)} lambdas = {timedelta(seconds=end-start)}\")\n",
    "print(\"--------------------------------------------------------------------------\")\n",
    "flatnorm_data = pd.DataFrame(flatnorm_data)\n",
    "flatnorm_data\n"
   ],
   "metadata": {
    "collapsed": false,
    "pycharm": {
     "name": "#%%\n"
    }
   }
  },
  {
   "cell_type": "markdown",
   "source": [
    "# flatnorm_stats"
   ],
   "metadata": {
    "collapsed": false,
    "pycharm": {
     "name": "#%% md\n"
    }
   }
  },
  {
   "cell_type": "code",
   "execution_count": null,
   "outputs": [],
   "source": [
    "fx.out_dir = \"out/test\"\n",
    "%ls {fx.out_dir}"
   ],
   "metadata": {
    "collapsed": false,
    "pycharm": {
     "name": "#%%\n"
    }
   }
  },
  {
   "cell_type": "code",
   "execution_count": null,
   "outputs": [],
   "source": [
    "area = 'mcbryde'\n",
    "epsilons, lambdas = np.linspace(5e-4, 2e-3, 4), np.linspace(1000, 100000, 5)\n",
    "num_regions = 50\n",
    "fx.out_dir = \"out/test\"\n",
    "file_name = f\"{area}-flatnorm-stats_{num_regions}_regions\"\n",
    "\n",
    "flatnorm_df = pd.read_csv(\n",
    "    f\"{fx.out_dir}/{file_name}.csv\",\n",
    "    sep=\",\",\n",
    "    # header=\n",
    ")"
   ],
   "metadata": {
    "collapsed": false,
    "pycharm": {
     "name": "#%%\n"
    }
   }
  },
  {
   "cell_type": "code",
   "execution_count": null,
   "outputs": [],
   "source": [
    "flatnorm_df"
   ],
   "metadata": {
    "collapsed": false,
    "pycharm": {
     "name": "#%%\n"
    }
   }
  },
  {
   "cell_type": "code",
   "execution_count": null,
   "outputs": [],
   "source": [
    "flatnorm_df = flatnorm_df.set_index(['epsilons', 'lambdas'], drop=False)"
   ],
   "metadata": {
    "collapsed": false,
    "pycharm": {
     "name": "#%%\n"
    }
   }
  },
  {
   "cell_type": "code",
   "execution_count": null,
   "outputs": [],
   "source": [
    "plt.hist(flatnorm_df.loc[(epsilons[2], lambdas[2]), 'flatnorms'], bins = 20)\n"
   ],
   "metadata": {
    "collapsed": false,
    "pycharm": {
     "name": "#%%\n"
    }
   }
  },
  {
   "cell_type": "code",
   "execution_count": null,
   "outputs": [],
   "source": [
    "plt.scatter(\n",
    "    flatnorm_df.loc[(epsilons[0], lambdas[0]), 'flatnorms'],\n",
    "    flatnorm_df.loc[(epsilons[0], lambdas[0]), 'input_ratios'],\n",
    ")\n",
    "# T  = T1 - T2\n",
    "# T_ratio = |T| / eps"
   ],
   "metadata": {
    "collapsed": false,
    "pycharm": {
     "name": "#%%\n"
    }
   }
  },
  {
   "cell_type": "code",
   "execution_count": null,
   "outputs": [],
   "source": [
    "fig, axs = plt.subplots((len(epsilons), len(lambdas)))\n",
    "len(axs)\n"
   ],
   "metadata": {
    "collapsed": false,
    "pycharm": {
     "name": "#%%\n"
    }
   }
  },
  {
   "cell_type": "code",
   "execution_count": null,
   "outputs": [],
   "source": [],
   "metadata": {
    "collapsed": false,
    "pycharm": {
     "name": "#%%\n"
    }
   }
  }
 ],
 "metadata": {
  "kernelspec": {
   "display_name": "Python 3",
   "language": "python",
   "name": "python3"
  },
  "language_info": {
   "codemirror_mode": {
    "name": "ipython",
    "version": 2
   },
   "file_extension": ".py",
   "mimetype": "text/x-python",
   "name": "python",
   "nbconvert_exporter": "python",
   "pygments_lexer": "ipython2",
   "version": "2.7.6"
  }
 },
 "nbformat": 4,
 "nbformat_minor": 0
}