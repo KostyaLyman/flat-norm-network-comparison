{
 "cells": [
  {
   "cell_type": "markdown",
   "source": [
    "# init"
   ],
   "metadata": {
    "collapsed": false,
    "pycharm": {
     "name": "#%% md\n"
    }
   }
  },
  {
   "cell_type": "code",
   "execution_count": null,
   "metadata": {
    "collapsed": true,
    "pycharm": {
     "name": "#%%\n"
    }
   },
   "outputs": [],
   "source": [
    "import sys, os, math\n",
    "import numpy as np\n",
    "import pandas as pd\n",
    "\n",
    "from shapely.geometry import Point, LineString, MultiLineString\n",
    "import shapely.geometry as sg\n",
    "\n",
    "from matplotlib import pyplot as plt, axes\n",
    "from timeit import default_timer as timer\n",
    "from datetime import timedelta\n",
    "from pprint import pprint\n",
    "\n",
    "from libs.pyDrawNetworklib import plot_regions, plot_triangulation, plot_norm\n",
    "\n",
    "from flat_norm_fixture import FlatNormFixture, close_fig, get_fig_from_ax\n",
    "MIN_X, MIN_Y, MAX_X, MAX_Y = 0, 1, 2, 3\n",
    "long_dashed = (5, (10, 3))\n",
    "\n",
    "city_info = {\n",
    "    'mcbryde': {\n",
    "        'flatnorm': {\n",
    "              1000: 0.438543,\n",
    "             25750: 0.520787,\n",
    "             50500: 0.582910,\n",
    "             75250: 0.630447,\n",
    "            100000: 0.669575,\n",
    "        },\n",
    "        'ratio': 0.52792,\n",
    "        'length': 0.01071,\n",
    "        'epsilon': 0.020293\n",
    "    }\n",
    "}\n",
    "fx = FlatNormFixture('runTest')\n",
    "fx.fig_dir = \"figs/notebooks\"\n",
    "fx.out_dir = \"outs/notebooks\"\n",
    "fx.area = 'mcbryde'\n"
   ]
  },
  {
   "cell_type": "code",
   "execution_count": null,
   "outputs": [],
   "source": [
    "\n"
   ],
   "metadata": {
    "collapsed": false,
    "pycharm": {
     "name": "#%%\n"
    }
   }
  },
  {
   "cell_type": "markdown",
   "source": [
    "# Sample and Plot regions"
   ],
   "metadata": {
    "collapsed": false,
    "pycharm": {
     "name": "#%% md\n"
    }
   }
  },
  {
   "cell_type": "markdown",
   "source": [
    "## sample_regions()"
   ],
   "metadata": {
    "collapsed": false,
    "pycharm": {
     "name": "#%% md\n"
    }
   }
  },
  {
   "cell_type": "code",
   "execution_count": null,
   "outputs": [],
   "source": [
    "area = 'mcbryde'\n",
    "epsilon = 2e-3\n",
    "num_regions = 6\n",
    "region = 2\n",
    "\n",
    "# read geometries\n",
    "act_geom, synt_geom, hull = fx.read_networks(area)\n",
    "\n",
    "# sample regions\n",
    "point_list, region_list = fx.sample_regions(\n",
    "    hull, num_regions=num_regions, epsilon=epsilon, seed=54321\n",
    ")\n",
    "\n",
    "# plot regions\n",
    "fig, ax = fx.plot_regions_list(\n",
    "    act_geom, synt_geom, region_list, area,\n",
    "    show=True,\n",
    "    region_highlight=region,\n",
    "    file_name_sfx=f\"sr_region_{region}\",\n",
    "    figsize=(40, 20),\n",
    "    do_return=True\n",
    ")"
   ],
   "metadata": {
    "collapsed": false,
    "pycharm": {
     "name": "#%%\n"
    }
   }
  },
  {
   "cell_type": "code",
   "execution_count": null,
   "outputs": [],
   "source": [],
   "metadata": {
    "collapsed": false,
    "pycharm": {
     "name": "#%%\n"
    }
   }
  },
  {
   "cell_type": "markdown",
   "source": [
    "## sample_regions_geom()"
   ],
   "metadata": {
    "collapsed": false,
    "pycharm": {
     "name": "#%% md\n"
    }
   }
  },
  {
   "cell_type": "code",
   "execution_count": null,
   "outputs": [],
   "source": [
    "area = 'mcbryde'\n",
    "epsilon = 2e-3\n",
    "num_regions = 6\n",
    "region = 2\n",
    "\n",
    "\n",
    "# read geometries\n",
    "act_geom, synt_geom, hull = fx.read_networks(area)\n",
    "\n",
    "# sample regions\n",
    "point_list, region_list = fx.sample_regions_geom(\n",
    "    hull, act_geom, synt_geom,\n",
    "    num_regions=num_regions, epsilon=epsilon,\n",
    "    seed=54321\n",
    ")\n",
    "\n",
    "# plot regions\n",
    "fig, ax = fx.plot_regions_list(\n",
    "    act_geom, synt_geom, region_list, area,\n",
    "    show=True,\n",
    "    region_highlight=region,\n",
    "    file_name_sfx=f\"srgeom_region_{region}\",\n",
    "    figsize=(40, 20),\n",
    "    do_return=True\n",
    ")"
   ],
   "metadata": {
    "collapsed": false,
    "pycharm": {
     "name": "#%%\n"
    }
   }
  },
  {
   "cell_type": "markdown",
   "source": [
    "## plot city region"
   ],
   "metadata": {
    "collapsed": false,
    "pycharm": {
     "name": "#%% md\n"
    }
   }
  },
  {
   "cell_type": "code",
   "execution_count": null,
   "outputs": [],
   "source": [
    "area = 'mcbryde'\n",
    "epsilon = 2e-3\n",
    "\n",
    "# read geometries\n",
    "act_geom, synt_geom, hull = fx.read_networks(area)\n",
    "\n",
    "city_region = sg.box(*hull.exterior.bounds)\n",
    "\n",
    "# plot regions\n",
    "fig, ax = fx.plot_regions_list(\n",
    "    act_geom, synt_geom, [city_region], area,\n",
    "    file_name_sfx=f\"city\",\n",
    "    figsize=(40, 20),\n",
    "    do_return=True,\n",
    "    show=True,\n",
    ")"
   ],
   "metadata": {
    "collapsed": false,
    "pycharm": {
     "name": "#%%\n"
    }
   }
  },
  {
   "cell_type": "code",
   "execution_count": null,
   "outputs": [],
   "source": [
    "p = Point(0, 0).buffer(1, cap_style=sg.base.CAP_STYLE.square)\n",
    "list(p.exterior.coords), type(p)"
   ],
   "metadata": {
    "collapsed": false,
    "pycharm": {
     "name": "#%%\n"
    }
   }
  },
  {
   "cell_type": "code",
   "execution_count": null,
   "outputs": [],
   "source": [],
   "metadata": {
    "collapsed": false,
    "pycharm": {
     "name": "#%%\n"
    }
   }
  },
  {
   "cell_type": "code",
   "execution_count": null,
   "outputs": [],
   "source": [
    "hull.bounds"
   ],
   "metadata": {
    "collapsed": false,
    "pycharm": {
     "name": "#%%\n"
    }
   }
  },
  {
   "cell_type": "code",
   "execution_count": null,
   "outputs": [],
   "source": [
    "city_bounds = hull.exterior.bounds\n",
    "city_bounds[MAX_X] - city_bounds[MIN_X]"
   ],
   "metadata": {
    "collapsed": false,
    "pycharm": {
     "name": "#%%\n"
    }
   }
  },
  {
   "cell_type": "code",
   "execution_count": null,
   "outputs": [],
   "source": [
    "list(sg.box(*hull.exterior.bounds).exterior.coords)"
   ],
   "metadata": {
    "collapsed": false,
    "pycharm": {
     "name": "#%%\n"
    }
   }
  },
  {
   "cell_type": "code",
   "execution_count": null,
   "outputs": [],
   "source": [
    "sg.box(*hull.exterior.bounds)\n",
    "sg.box(*hull.exterior.bounds)\n"
   ],
   "metadata": {
    "collapsed": false,
    "pycharm": {
     "name": "#%%\n"
    }
   }
  },
  {
   "cell_type": "code",
   "execution_count": null,
   "outputs": [],
   "source": [],
   "metadata": {
    "collapsed": false,
    "pycharm": {
     "name": "#%%\n"
    }
   }
  },
  {
   "cell_type": "code",
   "execution_count": null,
   "outputs": [],
   "source": [],
   "metadata": {
    "collapsed": false,
    "pycharm": {
     "name": "#%%\n"
    }
   }
  },
  {
   "cell_type": "code",
   "execution_count": null,
   "outputs": [],
   "source": [],
   "metadata": {
    "collapsed": false,
    "pycharm": {
     "name": "#%%\n"
    }
   }
  },
  {
   "cell_type": "markdown",
   "source": [
    "# Compute and Plot Flatnorm"
   ],
   "metadata": {
    "collapsed": false,
    "pycharm": {
     "name": "#%% md\n"
    }
   }
  },
  {
   "cell_type": "markdown",
   "source": [
    "## region flatnorm"
   ],
   "metadata": {
    "collapsed": false,
    "pycharm": {
     "name": "#%% md\n"
    }
   }
  },
  {
   "cell_type": "code",
   "execution_count": null,
   "outputs": [],
   "source": [
    "area = 'mcbryde'\n",
    "epsilon, lambda_ = 2e-3, 1000\n",
    "num_regions = 6\n",
    "region = 2\n",
    "fx.seed=54321\n",
    "\n",
    "# read geometries\n",
    "act_geom, synt_geom, hull = fx.read_networks(area)\n",
    "\n",
    "# sample regions\n",
    "point_list, region_list = fx.sample_regions_geom(\n",
    "    hull, act_geom, synt_geom,\n",
    "    num_regions=num_regions, epsilon=epsilon,\n",
    "    seed=54321\n",
    ")\n",
    "\n",
    "# plot regions\n",
    "fx.plot_regions_list(\n",
    "    act_geom, synt_geom, region_list, area,\n",
    "    region_highlight=region,\n",
    "    file_name_sfx=f\"srg_region_{region}\",\n",
    "    do_return=False,\n",
    "    figsize=(40, 20)\n",
    ")\n",
    "\n",
    "# flat norm\n",
    "norm, enorm, tnorm, w, plot_data = fx.compute_region_flatnorm(\n",
    "    region_list[region], act_geom, synt_geom,\n",
    "    lambda_=lambda_,\n",
    "    normalized=True,\n",
    "    plot=True\n",
    ")\n",
    "\n",
    "# plot flat norm\n",
    "fx.plot_triangulated_region_flatnorm(\n",
    "    epsilon=epsilon, lambda_=lambda_,\n",
    "    to_file=f\"{area}-flatnorm_region_{region}\",\n",
    "    suptitle_sfx=f\"FN={norm:0.5f} : |T| = {w:0.5f} : |T| / $\\\\epsilon$ = {w / epsilon:0.5f}\",\n",
    "    do_return=False, show=True,\n",
    "    **plot_data\n",
    ")\n"
   ],
   "metadata": {
    "collapsed": false,
    "pycharm": {
     "name": "#%%\n"
    }
   }
  },
  {
   "cell_type": "markdown",
   "source": [
    "## city flatnorm"
   ],
   "metadata": {
    "collapsed": false,
    "pycharm": {
     "name": "#%% md\n"
    }
   }
  },
  {
   "cell_type": "code",
   "execution_count": null,
   "outputs": [],
   "source": [
    "fx.area = 'mcbryde'\n",
    "lambda_ = 1000\n",
    "\n",
    "# read geometries\n",
    "act_geom, synt_geom, hull = fx.read_networks()\n",
    "\n",
    "# city region\n",
    "city_bounds = hull.exterior.bounds\n",
    "city_region = sg.box(*city_bounds)\n",
    "city_width, city_height = city_bounds[MAX_X] - city_bounds[MIN_X], city_bounds[MAX_Y] - city_bounds[MIN_Y]\n",
    "epsilon = max(city_width/2, city_height/2)\n",
    "\n",
    "# plot city region\n",
    "fx.plot_regions_list(\n",
    "    act_geom, synt_geom, [city_region], fx.area,\n",
    "    file_name_sfx=f\"city\",\n",
    "    do_return=False, show=True,\n",
    "    figsize=(40, 20)\n",
    ")\n",
    "\n",
    "# city flat norm\n",
    "norm, enorm, tnorm, w, plot_data = fx.compute_region_flatnorm(\n",
    "    city_region, act_geom, synt_geom,\n",
    "    lambda_=lambda_,\n",
    "    normalized=True,\n",
    "    plot=True\n",
    ")\n",
    "\n",
    "# plot flat norm\n",
    "fx.plot_triangulated_region_flatnorm(\n",
    "    epsilon=f\"{epsilon:0.4f}\", lambda_=lambda_,\n",
    "    to_file=f\"{area}-flatnorm_city\",\n",
    "    suptitle_sfx=f\"$F_{{\\\\lambda}}$={norm:0.5f} : \"\n",
    "                 f\"|T| = {w:0.5f} : \"\n",
    "                 f\"|T| / $\\\\epsilon$ = {w / epsilon:0.5f}\",\n",
    "    do_return=False, show=True, constrained_layout=True,\n",
    "    **plot_data\n",
    ")\n"
   ],
   "metadata": {
    "collapsed": false,
    "pycharm": {
     "name": "#%%\n"
    }
   }
  },
  {
   "cell_type": "markdown",
   "source": [
    "# Plot Flatnorm lines"
   ],
   "metadata": {
    "collapsed": false,
    "pycharm": {
     "name": "#%% md\n"
    }
   }
  },
  {
   "cell_type": "markdown",
   "source": [
    "## region flatnorm lines"
   ],
   "metadata": {
    "collapsed": false,
    "pycharm": {
     "name": "#%% md\n"
    }
   }
  },
  {
   "cell_type": "code",
   "execution_count": null,
   "outputs": [],
   "source": [
    "area = 'mcbryde'\n",
    "epsilons, lambdas = np.linspace(5e-4, 2e-3, 4), np.linspace(1000, 100000, 5)\n",
    "num_regions = 6\n",
    "region = 2\n",
    "fx.seed=54321\n",
    "\n",
    "# read geometries\n",
    "act_geom, synt_geom, hull = fx.read_networks(area)\n",
    "\n",
    "points, regions = fx.sample_regions_geom(\n",
    "    hull, act_geom, synt_geom,\n",
    "    epsilon=epsilons[0],\n",
    "    num_regions=num_regions,\n",
    "    seed=fx.seed\n",
    ")\n",
    "\n",
    "# plot regions\n",
    "fx.plot_regions_list(\n",
    "    act_geom, synt_geom, regions, area,\n",
    "    region_highlight=region,\n",
    "    file_name_sfx=f\"_region_{region}\",\n",
    "    do_return=False, show=True,\n",
    "    figsize=(40, 20)\n",
    ")\n",
    "\n",
    "# flat norm\n",
    "flatnorm_data = {\n",
    "    'epsilons': [], 'lambdas': [], 'flatnorms': [],\n",
    "    'norm_lengths': [], 'norm_areas': []\n",
    "}\n",
    "\n",
    "start = timer()\n",
    "for epsilon in epsilons:\n",
    "    for lambda_ in lambdas:\n",
    "        norm, enorm, tnorm, w = fx.compute_region_flatnorm(\n",
    "            fx.get_region(points[region], epsilon),\n",
    "            act_geom, synt_geom,\n",
    "            lambda_=lambda_,\n",
    "            normalized=True,\n",
    "            plot=False\n",
    "        )\n",
    "        flatnorm_data['epsilons'].append(f\"{epsilon:0.4f}\")\n",
    "        flatnorm_data['lambdas'].append(lambda_)\n",
    "        flatnorm_data['flatnorms'].append(norm)\n",
    "        flatnorm_data['norm_lengths'].append(enorm)\n",
    "        flatnorm_data['norm_areas'].append(tnorm)\n",
    "\n",
    "end = timer()\n",
    "\n",
    "fig, ax = fx.plot_region_flatnorm_lines(\n",
    "    epsilons=flatnorm_data['epsilons'],\n",
    "    lambdas=flatnorm_data['lambdas'],\n",
    "    flatnorms=flatnorm_data['flatnorms'],\n",
    "    to_file=f\"{area}-flatnorm-lines_region_{region}\",\n",
    "    do_return=True\n",
    ")\n",
    "\n",
    "print(\"--------------------------------------------------------------------------\")\n",
    "print(f\"compute region flatnorm \"\n",
    "      f\"for {len(epsilons)} epsilons \"\n",
    "      f\"and {len(lambdas)} lambdas = {timedelta(seconds=end-start)}\")\n",
    "print(\"--------------------------------------------------------------------------\")\n",
    "flatnorm_data = pd.DataFrame(flatnorm_data)\n",
    "flatnorm_data.head()\n"
   ],
   "metadata": {
    "collapsed": false,
    "pycharm": {
     "name": "#%%\n"
    }
   }
  },
  {
   "cell_type": "markdown",
   "source": [
    "## city flatnorm lines"
   ],
   "metadata": {
    "collapsed": false,
    "pycharm": {
     "name": "#%% md\n"
    }
   }
  },
  {
   "cell_type": "code",
   "execution_count": null,
   "outputs": [],
   "source": [],
   "metadata": {
    "collapsed": false,
    "pycharm": {
     "name": "#%%\n"
    }
   }
  },
  {
   "cell_type": "markdown",
   "source": [
    "# flatnorm stats"
   ],
   "metadata": {
    "collapsed": false,
    "pycharm": {
     "name": "#%% md\n"
    }
   }
  },
  {
   "cell_type": "code",
   "execution_count": null,
   "outputs": [],
   "source": [
    "fx.out_dir = \"out/test\"\n",
    "%ls {fx.out_dir}"
   ],
   "metadata": {
    "collapsed": false,
    "pycharm": {
     "name": "#%%\n"
    }
   }
  },
  {
   "cell_type": "markdown",
   "source": [
    "## load regions stats"
   ],
   "metadata": {
    "collapsed": false,
    "pycharm": {
     "name": "#%% md\n"
    }
   }
  },
  {
   "cell_type": "code",
   "execution_count": null,
   "outputs": [],
   "source": [
    "fx.area = 'mcbryde'\n",
    "epsilons, lambdas = np.linspace(5e-4, 2e-3, 4), np.linspace(1000, 100000, 5, dtype=int)\n",
    "num_regions = 50\n",
    "fx.out_dir = \"out/test\"\n",
    "file_name = f\"{fx.area}-flatnorm-stats_{num_regions}_regions\"\n",
    "\n",
    "flatnorm_df = pd.read_csv(\n",
    "    f\"{fx.out_dir}/{file_name}.csv\",\n",
    "    sep=\",\",\n",
    "    dtype={\n",
    "         'epsilons': float,\n",
    "         'lambdas': int,\n",
    "         'flatnorms': np.float64,\n",
    "         'norm_lengths': np.float64,\n",
    "         'norm_areas': np.float64,\n",
    "         'input_lengths': np.float64,\n",
    "         'input_ratios': np.float64,\n",
    "         'MIN_X': np.float64,\n",
    "         'MIN_Y': np.float64,\n",
    "         'MAX_X': np.float64,\n",
    "         'MAX_Y': np.float64,\n",
    "    }\n",
    ")\n",
    "flatnorm_df['id'] = list(range(len(flatnorm_df)))\n",
    "flatnorm_df = flatnorm_df.set_index(['epsilons', 'lambdas'], drop=False)\n",
    "# flatnorm_df.head(10)"
   ],
   "metadata": {
    "collapsed": false,
    "pycharm": {
     "name": "#%%\n"
    }
   }
  },
  {
   "cell_type": "markdown",
   "source": [
    "## load city stats"
   ],
   "metadata": {
    "collapsed": false,
    "pycharm": {
     "name": "#%% md\n"
    }
   }
  },
  {
   "cell_type": "code",
   "execution_count": null,
   "outputs": [],
   "source": [
    "fx.area = 'mcbryde'\n",
    "fx.out_dir = \"out/test\"\n",
    "file_name = f\"{fx.area}-flatnorm-stats_city\"\n",
    "\n",
    "fn_city_df = pd.read_csv(\n",
    "    f\"{fx.out_dir}/{file_name}.csv\",\n",
    "    sep=\",\",\n",
    "    # header=\n",
    ")\n",
    "fn_city_df = fn_city_df.set_index(['lambdas'], drop=False)\n",
    "city_ratio = fn_city_df['input_ratios'].max()\n",
    "fn_city_df"
   ],
   "metadata": {
    "collapsed": false,
    "pycharm": {
     "name": "#%%\n"
    }
   }
  },
  {
   "cell_type": "markdown",
   "source": [
    "## histograms"
   ],
   "metadata": {
    "collapsed": false,
    "pycharm": {
     "name": "#%% md\n"
    }
   }
  },
  {
   "cell_type": "markdown",
   "source": [
    "### plot_hist_fn()"
   ],
   "metadata": {
    "collapsed": false,
    "pycharm": {
     "name": "#%% md\n"
    }
   }
  },
  {
   "cell_type": "code",
   "execution_count": null,
   "outputs": [],
   "source": [
    "def plot_hist_fn(fn_df, city_df, lambda_, epsilon=None, ax=None, **kwargs):\n",
    "    fig, ax, _ = get_fig_from_ax(ax, **kwargs)\n",
    "    lambda_ = int(lambda_)\n",
    "\n",
    "    colors = {\n",
    "        'city': kwargs.get('city_color', 'xkcd:electric blue'),\n",
    "        'hist': kwargs.get('hist_color', 'xkcd:pastel blue'),\n",
    "        'fn_mean': kwargs.get('fn_mean_color', 'xkcd:kelly green'),\n",
    "    }\n",
    "\n",
    "\n",
    "    # flatnorm VS ratios ------------------------------------------------------\n",
    "    if epsilon:\n",
    "        fn_df = fn_df.loc[(epsilon, lambda_), ].copy()\n",
    "    else:\n",
    "        idx = pd.IndexSlice\n",
    "        fn_df = fn_df.loc[idx[:, lambda_], ].copy()\n",
    "\n",
    "    # flatnorm histogram -------------------------------------------------------\n",
    "    hist_data = ax.hist(\n",
    "        fn_df['flatnorms'],\n",
    "        bins=20, color=colors['hist'],\n",
    "        range=(0, 1),\n",
    "    )\n",
    "\n",
    "\n",
    "    # mean flatnorm -----------------------------------------------------------\n",
    "    fn_mean = fn_df['flatnorms'].mean()\n",
    "    fn_sd = fn_df['flatnorms'].std()\n",
    "    ax.plot(\n",
    "        [fn_mean, fn_mean], [0, 100],\n",
    "        c=colors['fn_mean'], linewidth=3\n",
    "    )\n",
    "    ax.plot(\n",
    "        [fn_mean - fn_sd, fn_mean - fn_sd], [0, 100],\n",
    "        c=colors['fn_mean'], linewidth=1, linestyle=long_dashed\n",
    "    )\n",
    "    ax.plot(\n",
    "        [fn_mean + fn_sd, fn_mean + fn_sd], [0, 100],\n",
    "        c=colors['fn_mean'], linewidth=1, linestyle=long_dashed\n",
    "    )\n",
    "\n",
    "    # city flatnorm -----------------------------------------------------------\n",
    "    city_fn = city_df.at[lambda_, 'flatnorms']\n",
    "    ax.plot(\n",
    "        [city_fn, city_fn] , [0, 100],\n",
    "        c=colors['city'], linewidth=3\n",
    "    )\n",
    "\n",
    "    # ticks -------------------------------------------------------------------\n",
    "    ax.set_xticks([city_fn, fn_mean],\n",
    "                  labels=[f\"{city_fn:0.3f}\", f\"{fn_mean:0.3f}\"],\n",
    "                  minor=True,\n",
    "                  )\n",
    "\n",
    "    for tlabel, tcolor in zip(ax.get_xticklabels(minor=True), [colors['city'], colors['fn_mean']]):\n",
    "        tlabel.set_color(tcolor)\n",
    "\n",
    "    # plot title --------------------------------------------------------------\n",
    "    titles = dict(\n",
    "        fn = f\"$\\\\hat{{F}}_{{\\\\lambda}}={fn_mean:0.3f} \\pm {fn_sd:0.3f}$\",\n",
    "        city = f\"$F_{{\\\\lambda}}^{{C}} = {city_fn:0.4f}$\"\n",
    "    )\n",
    "    which_titles = kwargs.get('titles', list(titles.keys()))\n",
    "\n",
    "    title_styles = dict(\n",
    "        ll=f\"$\\\\lambda={{lambda_:d}}$\",\n",
    "        le=f\"$\\\\lambda={{lambda_:d}}$, $\\\\epsilon={{epsilon:0.4f}}$\",\n",
    "        el=f\"$\\\\epsilon={{epsilon:0.4f}}$, $\\\\lambda={{lambda_:d}}$\",\n",
    "    )\n",
    "    title_style = kwargs.get('title_style', 'le')\n",
    "\n",
    "    if epsilon:\n",
    "        title = title_styles[title_style].format(lambda_=lambda_, epsilon=epsilon)\n",
    "    else:\n",
    "        title = title_styles['ll'].format(lambda_=lambda_)\n",
    "\n",
    "    # subtitle = \", \".join([t_str for t_name, t_str in titles.items() if t_name in which_titles])\n",
    "    subtitle = \", \".join([titles[t_name] for t_name in which_titles])\n",
    "    title = f\"{title}\\n{subtitle}\" if subtitle else title\n",
    "    ax.set_title(title, fontsize=kwargs.get('title_fontsize', 18))\n",
    "\n",
    "    # plot config -------------------------------------------------------------\n",
    "    ax.set_xlabel(\"$F_{{\\\\lambda}}$\",\n",
    "                  # rotation='horizontal',\n",
    "                  fontsize=kwargs.get('xylabel_fontsize', 16))\n",
    "\n",
    "    ax.set_ylim(bottom=0, top=hist_data[0].max() + 1)\n",
    "    ax.set_xlim(left=-0.02, right=1.02)\n",
    "    return fn_mean, city_fn\n",
    "\n"
   ],
   "metadata": {
    "collapsed": false,
    "pycharm": {
     "name": "#%%\n"
    }
   }
  },
  {
   "cell_type": "markdown",
   "source": [
    "### by lambdas"
   ],
   "metadata": {
    "collapsed": false,
    "pycharm": {
     "name": "#%% md\n"
    }
   }
  },
  {
   "cell_type": "code",
   "execution_count": null,
   "outputs": [],
   "source": [
    "# BY LAMBDAS\n",
    "L = len(lambdas)\n",
    "idx = pd.IndexSlice\n",
    "fig, axs = plt.subplots(1, L, figsize=(L*10, 10), constrained_layout=True)\n",
    "\n",
    "fn_means, fn_cities = list(), list()\n",
    "for l, lambda_ in enumerate(lambdas):\n",
    "    fnm, fnc = plot_hist_fn(\n",
    "        flatnorm_df, fn_city_df, lambda_, ax=axs[l],\n",
    "        titles=['fn', 'city'],\n",
    "\n",
    "    )\n",
    "    fn_means.append(fnm)\n",
    "    fn_cities.append(fnc)\n",
    "    pass\n",
    "\n",
    "fnm_mean, fnm_std = np.array(fn_means).mean(), np.array(fn_means).std()\n",
    "fnc_mean, fnc_std = np.array(fn_cities).mean(), np.array(fn_cities).std()\n",
    "\n",
    "# fnm_suptitle = f\"mean($\\\\hat{{F}}_{{\\\\lambda}}$)={fnm_mean:0.3f}, sd($\\\\hat{{F}}_{{\\\\lambda}}$)={fnm_std:0.3f}\"\n",
    "fnm_suptitle = f\"${{\\\\sf mean}}(\\\\hat{{F}}_{{\\\\lambda}})={fnm_mean:0.3f}, {{\\\\sf sd}}(\\\\hat{{F}}_{{\\\\lambda}})={fnm_std:0.3f}$\"\n",
    "fnm_suptitle_short = f\"$\\\\hat{{F}}_{{\\\\lambda}}={fnm_mean:0.3f} \\\\pm {fnm_std:0.3f}$\"\n",
    "city_suptitle = f\"${{\\\\bf {fx.area}}} : F_{{\\\\lambda}}^{{C}}={fnc_mean:0.3f} \\\\pm {fnc_std:0.3f}$\"\n",
    "\n",
    "fig.suptitle(f\"{city_suptitle}\\n{fnm_suptitle}\", fontsize=25)\n",
    "\n",
    "file_name = f\"{fx.area}-flatnorm-hists-lambdas_{num_regions}_regions\"\n",
    "close_fig(fig, to_file=f\"{fx.fig_dir}/{file_name}.png\", show=True)\n"
   ],
   "metadata": {
    "collapsed": false,
    "pycharm": {
     "name": "#%%\n"
    }
   }
  },
  {
   "cell_type": "markdown",
   "source": [
    "### by lambdas * epsilons"
   ],
   "metadata": {
    "collapsed": false,
    "pycharm": {
     "name": "#%% md\n"
    }
   }
  },
  {
   "cell_type": "code",
   "execution_count": null,
   "outputs": [],
   "source": [
    "L, E = len(lambdas), len(epsilons)\n",
    "fig, axs = plt.subplots(E, L, figsize=(L*10, E*10), constrained_layout=True)\n",
    "\n",
    "fn_means, fn_cities = list(), list()\n",
    "for e, epsilon in enumerate(epsilons):\n",
    "    for l, lambda_ in enumerate(lambdas):\n",
    "        fnm, fnc = plot_hist_fn(\n",
    "            flatnorm_df, fn_city_df, lambda_, epsilon=epsilon,\n",
    "            ax=axs[e][l],\n",
    "            titles=['fn', 'city'],\n",
    "            title_style=\"el\",\n",
    "        )\n",
    "        fn_means.append(fnm)\n",
    "        fn_cities.append(fnc)\n",
    "        pass\n",
    "\n",
    "fnm_mean, fnm_std = np.array(fn_means).mean(), np.array(fn_means).std()\n",
    "fnc_mean, fnc_std = np.array(fn_cities).mean(), np.array(fn_cities).std()\n",
    "\n",
    "fnm_suptitle_short = f\"$\\\\hat{{F}}_{{\\\\lambda}}={fnm_mean:0.3f} \\\\pm {fnm_std:0.3f}$\"\n",
    "city_suptitle = f\"${{\\\\bf {fx.area}}} : F_{{\\\\lambda}}^{{C}}={fnc_mean:0.3f} \\\\pm {fnc_std:0.3f}$\"\n",
    "\n",
    "fig.suptitle(f\"{city_suptitle}\\n{fnm_suptitle}\", fontsize=25)\n",
    "\n",
    "file_name = f\"{fx.area}-flatnorm-hists_{num_regions}_regions\"\n",
    "close_fig(fig, to_file=f\"{fx.fig_dir}/{file_name}.png\", show=True)\n"
   ],
   "metadata": {
    "collapsed": false,
    "pycharm": {
     "name": "#%%\n"
    }
   }
  },
  {
   "cell_type": "code",
   "execution_count": null,
   "outputs": [],
   "source": [],
   "metadata": {
    "collapsed": false,
    "pycharm": {
     "name": "#%%\n"
    }
   }
  },
  {
   "cell_type": "markdown",
   "source": [
    "## scatter plots"
   ],
   "metadata": {
    "collapsed": false,
    "pycharm": {
     "name": "#%% md\n"
    }
   }
  },
  {
   "cell_type": "markdown",
   "source": [
    "### plot_fn_vs_ratio()"
   ],
   "metadata": {
    "collapsed": false,
    "pycharm": {
     "name": "#%% md\n"
    }
   }
  },
  {
   "cell_type": "code",
   "execution_count": null,
   "outputs": [],
   "source": [
    "def plot_fn_vs_ratio(fn_df, city_df, lambda_, epsilon=None, ax=None, **kwargs):\n",
    "    \"\"\"\n",
    "    :param kwargs: highlight: set, titles: list, title_style: str, X_color: str, X_fontsize: int;\n",
    "                   if ax is None: figsize, constrained_layout\n",
    "    \"\"\"\n",
    "    fig, ax, _ = get_fig_from_ax(ax, **kwargs)\n",
    "    lambda_ = int(lambda_)\n",
    "\n",
    "    colors = {\n",
    "        'city': kwargs.get('city_color', 'xkcd:electric blue'),\n",
    "        'scatter': kwargs.get('scatter_color', 'xkcd:pastel blue'),\n",
    "        'highlight': kwargs.get('highlight_color', 'xkcd:pumpkin'),\n",
    "        'fn_mean': kwargs.get('fn_mean_color', 'xkcd:kelly green'),\n",
    "        'regression': kwargs.get('regression_color', 'red'),\n",
    "    }\n",
    "\n",
    "\n",
    "    # flatnorm VS ratios ------------------------------------------------------\n",
    "    if epsilon:\n",
    "        fn_df = fn_df.loc[(epsilon, lambda_), ].copy()\n",
    "    else:\n",
    "        idx = pd.IndexSlice\n",
    "        fn_df = fn_df.loc[idx[:, lambda_], ].copy()\n",
    "\n",
    "    x_ratios = fn_df['input_ratios'].to_numpy()\n",
    "    y_flatnorms = fn_df['flatnorms'].to_numpy()\n",
    "\n",
    "    if highlight := kwargs.get('highlight', list()):\n",
    "        if not isinstance(highlight, (list, set)):\n",
    "            highlight = set(highlight)\n",
    "        fn_df['color'] = colors['scatter']\n",
    "        fn_df.loc[fn_df['id'].isin(highlight), 'color'] = colors['highlight']\n",
    "        colors['scatter'] = fn_df['color'].to_list()\n",
    "\n",
    "    ax.scatter(\n",
    "        x_ratios, y_flatnorms,\n",
    "        alpha=0.7, s=5 ** 2, c=colors['scatter'],\n",
    "        marker='o'\n",
    "    )\n",
    "\n",
    "    if highlight:\n",
    "        ax.scatter(\n",
    "            fn_df.loc[fn_df['id'].isin(highlight), 'input_ratios'],\n",
    "            fn_df.loc[fn_df['id'].isin(highlight), 'flatnorms'],\n",
    "            alpha=0.8, s=12 ** 2, c=colors['highlight'],\n",
    "            marker='x'\n",
    "        )\n",
    "\n",
    "\n",
    "    # mean line ---------------------------------------------------------------\n",
    "    fn_mean = y_flatnorms.mean()\n",
    "    fn_sd = y_flatnorms.std()\n",
    "    ax.plot(\n",
    "        [0, 100], [fn_mean, fn_mean],\n",
    "        c=colors['fn_mean'], linewidth=3, alpha=0.5\n",
    "    )\n",
    "    ax.plot(\n",
    "        [0, 100], [fn_mean - fn_sd, fn_mean - fn_sd],\n",
    "        c=colors['fn_mean'], linewidth=1, linestyle=long_dashed, alpha=0.5,\n",
    "    )\n",
    "    ax.plot(\n",
    "        [0, 100], [fn_mean + fn_sd, fn_mean + fn_sd],\n",
    "        c=colors['fn_mean'], linewidth=1, linestyle=long_dashed, alpha=0.5,\n",
    "    )\n",
    "\n",
    "    # city flatnorm -----------------------------------------------------------\n",
    "    city_fn, city_ratio = city_df.loc[lambda_, ['flatnorms', 'input_ratios']]\n",
    "    ax.scatter(\n",
    "        [city_ratio], [city_fn],\n",
    "        alpha=1, s=15 ** 2, color=colors['city'],\n",
    "        marker='*'\n",
    "    )\n",
    "\n",
    "    # regression line ---------------------------------------------------------\n",
    "    from sklearn.metrics import r2_score\n",
    "    # regression\n",
    "    N = len(x_ratios)\n",
    "    b, a = np.polyfit(x_ratios, y_flatnorms, deg=1)\n",
    "    y_predict = a + b * x_ratios\n",
    "    y_var = sum((y_predict - y_flatnorms) ** 2) / (N - 1)\n",
    "    y_err = math.sqrt(y_var)\n",
    "    b_var = y_var / sum((x_ratios - x_ratios.mean())**2)\n",
    "    b_err = math.sqrt(b_var)\n",
    "    # correlation & R2\n",
    "    fn_ratio_corr = np.corrcoef(x_ratios, y_flatnorms)[0, 1]\n",
    "    fn_ratio_r2 = r2_score(y_flatnorms, y_predict)\n",
    "    xseq = np.linspace(0, 1, num=10)\n",
    "    ax.plot(xseq, a + b * xseq, color=colors['regression'], lw=3, alpha=0.5)\n",
    "    ax.plot(xseq, a + y_err + b * xseq, color=colors['regression'], lw=1, alpha=0.5, linestyle=long_dashed)\n",
    "    ax.plot(xseq, a - y_err + b * xseq, color=colors['regression'], lw=1, alpha=0.5, linestyle=long_dashed)\n",
    "\n",
    "    # stat data dict ----------------------------------------------------------\n",
    "    stat_dict = {\n",
    "        'a': a, 'b': b,\n",
    "        'err': math.sqrt(y_var),\n",
    "        'std_err': np.std(y_predict - y_flatnorms),\n",
    "        'b_err': b_err,\n",
    "        'corr': fn_ratio_corr,\n",
    "        'R2': fn_ratio_r2,\n",
    "        'fn_mean': fn_mean,\n",
    "        'fn_sd': fn_sd,\n",
    "    }\n",
    "\n",
    "    # ticks -------------------------------------------------------------------\n",
    "    ax.set_xticks([city_ratio], [f\"{city_ratio:0.3f}\"], color=colors['city'], minor=True, )\n",
    "    ax.set_yticks([city_fn, fn_mean],\n",
    "                  labels=[f\"{city_fn:0.3f}\", f\"{fn_mean:0.3f}\"],\n",
    "                  minor=True,\n",
    "                  # color=[colors['city'], colors['fn_mean']],\n",
    "                  )\n",
    "\n",
    "    for tlabel, tcolor in zip(ax.get_yticklabels(minor=True), [colors['city'], colors['fn_mean']]):\n",
    "        tlabel.set_color(tcolor)\n",
    "\n",
    "    # plot title --------------------------------------------------------------\n",
    "    titles = dict(\n",
    "        fn = f\"$\\\\hat{{F}}_{{\\\\lambda}}={fn_mean:0.3f} \\pm {fn_sd:0.3f}$\",\n",
    "        beta = f\"$\\\\hat{{\\\\beta}}={b:0.3f} \\pm {b_err:0.3f}$\",\n",
    "        corr = f\"$\\\\rho={fn_ratio_corr:0.3f}$\",\n",
    "        r2 = f\"$R^{{2}}={fn_ratio_r2:0.3f}$\",\n",
    "    )\n",
    "    which_titles = kwargs.get('titles', list(titles.keys()))\n",
    "\n",
    "    title_styles = dict(\n",
    "        ll=f\"$\\\\lambda={{lambda_:d}}$\",\n",
    "        le=f\"$\\\\lambda={{lambda_:d}}$, $\\\\epsilon={{epsilon:0.4f}}$\",\n",
    "        el=f\"$\\\\epsilon={{epsilon:0.4f}}$, $\\\\lambda={{lambda_:d}}$\",\n",
    "    )\n",
    "    title_style = kwargs.get('title_style', 'le')\n",
    "\n",
    "    if epsilon:\n",
    "        title = title_styles[title_style].format(lambda_=lambda_, epsilon=epsilon)\n",
    "    else:\n",
    "        title = title_styles['ll'].format(lambda_=lambda_)\n",
    "\n",
    "\n",
    "    # subtitle = \", \".join([t_str for t_name, t_str in titles.items() if t_name in which_titles])\n",
    "    subtitle = \", \".join([titles[t_name] for t_name in which_titles])\n",
    "    title = f\"{title}\\n{subtitle}\"\n",
    "    ax.set_title(title, fontsize=kwargs.get('title_fontsize', 18))\n",
    "\n",
    "    # plot config -------------------------------------------------------------\n",
    "    ax.set_xlabel(\"|T|/$\\epsilon$\", fontsize=kwargs.get('xylabel_fontsize', 16))\n",
    "    ax.set_ylabel(\"$F_{{\\\\lambda}}$\",\n",
    "                  rotation='horizontal',\n",
    "                  fontsize=kwargs.get('xylabel_fontsize', 16))\n",
    "    ax.set_xlim(left=0, right=1)\n",
    "    ax.set_ylim(bottom=0, top=1.05)\n",
    "    return stat_dict\n"
   ],
   "metadata": {
    "collapsed": false,
    "pycharm": {
     "name": "#%%\n"
    }
   }
  },
  {
   "cell_type": "markdown",
   "source": [
    "### by lambdas"
   ],
   "metadata": {
    "collapsed": false,
    "pycharm": {
     "name": "#%% md\n"
    }
   }
  },
  {
   "cell_type": "code",
   "execution_count": null,
   "outputs": [],
   "source": [
    "# BY LAMBDAS\n",
    "lambdas = np.linspace(1000, 100000, 5, dtype=int)\n",
    "L = len(lambdas)\n",
    "fig, axs = plt.subplots(1, L, figsize=(L*10, 11), constrained_layout=True)\n",
    "idx = pd.IndexSlice\n",
    "reg_coefs = []\n",
    "reg_coefs_dict = dict()\n",
    "\n",
    "for l, lambda_ in enumerate(lambdas):\n",
    "    reg_coefs_dict[lambda_] = plot_fn_vs_ratio(\n",
    "        flatnorm_df, fn_city_df, lambda_,\n",
    "        ax=axs[l],\n",
    "        titles=['fn', 'beta', 'r2'],\n",
    "    )\n",
    "\n",
    "reg_coefs_data = pd.DataFrame(reg_coefs_dict).transpose()\n",
    "beta_mean, beta_std = reg_coefs_data['b'].mean(), reg_coefs_data['b'].std()\n",
    "\n",
    "beta_suptitle = f\"mean($\\\\hat{{\\\\beta}}$)={beta_mean:0.4f}, sd($\\\\hat{{\\\\beta}}$)={beta_std:0.4f}\"\n",
    "city_suptitle = f\"${{\\\\bf {fx.area}}} : |T|/\\\\epsilon = {fn_city_df['input_ratios'].max():0.3}$\"\n",
    "fig.suptitle(f\"{city_suptitle}\\n{beta_suptitle}\", fontsize=25)\n",
    "\n",
    "file_name = f\"{fx.area}-flatnorm-input-ratios-lambdas_{num_regions}_regions\"\n",
    "close_fig(fig, to_file=f\"{fx.fig_dir}/{file_name}.png\", show=True)\n",
    "\n",
    "beta_mean, beta_std"
   ],
   "metadata": {
    "collapsed": false,
    "pycharm": {
     "name": "#%%\n"
    }
   }
  },
  {
   "cell_type": "code",
   "execution_count": null,
   "outputs": [],
   "source": [
    "reg_coefs_data"
   ],
   "metadata": {
    "collapsed": false,
    "pycharm": {
     "name": "#%%\n"
    }
   }
  },
  {
   "cell_type": "markdown",
   "source": [
    "![](figs/notebooks/mcbryde-flatnorm-input-ratios-lambdas_50_regions.png)"
   ],
   "metadata": {
    "collapsed": false,
    "pycharm": {
     "name": "#%% md\n"
    }
   }
  },
  {
   "cell_type": "code",
   "execution_count": null,
   "outputs": [],
   "source": [
    "idx = pd.IndexSlice\n",
    "y_flatnorms = flatnorm_df.loc[idx[:, lambda_], 'flatnorms'].to_numpy()\n",
    "x_ratios = flatnorm_df.loc[idx[:, lambda_], 'input_ratios'].to_numpy()\n",
    "np.corrcoef(x_ratios, y_flatnorms)[0, 1]\n",
    "\n",
    "# np.polyfit(flatnorm_df['flatnorms'].to_numpy(), flatnorm_df['input_ratios'].to_numpy(), deg=1)"
   ],
   "metadata": {
    "collapsed": false,
    "pycharm": {
     "name": "#%%\n"
    }
   }
  },
  {
   "cell_type": "code",
   "execution_count": null,
   "outputs": [],
   "source": [
    "set(\"a\")"
   ],
   "metadata": {
    "collapsed": false,
    "pycharm": {
     "name": "#%%\n"
    }
   }
  },
  {
   "cell_type": "markdown",
   "source": [
    "### by lambdas * epsilons"
   ],
   "metadata": {
    "collapsed": false,
    "pycharm": {
     "name": "#%% md\n"
    }
   }
  },
  {
   "cell_type": "code",
   "execution_count": null,
   "outputs": [],
   "source": [
    "L = len(lambdas)\n",
    "E = len(epsilons)\n",
    "reg_coefs = []\n",
    "fig, axs = plt.subplots(E, L, figsize=(L*10, E*11), constrained_layout=True)\n",
    "reg_coefs_dict = dict()\n",
    "for e, epsilon in enumerate(epsilons):\n",
    "    for l, lambda_ in enumerate(lambdas):\n",
    "        reg_coefs_dict[(epsilon, lambda_)] = plot_fn_vs_ratio(\n",
    "            flatnorm_df, fn_city_df, lambda_, epsilon=epsilon,\n",
    "            ax=axs[e][l],\n",
    "            titles=['fn', 'beta', 'r2'],\n",
    "            title_style=\"el\",\n",
    "        )\n",
    "\n",
    "reg_coefs_data = pd.DataFrame(reg_coefs_dict).transpose()\n",
    "beta_mean, beta_std = reg_coefs_data['b'].mean(), reg_coefs_data['b'].std()\n",
    "\n",
    "beta_suptitle = f\"mean($\\\\hat{{\\\\beta}}$)={beta_mean:0.4f}, sd($\\\\hat{{\\\\beta}}$)={beta_std:0.4f}\"\n",
    "city_suptitle = f\"${{\\\\bf {fx.area}}} : |T|/\\\\epsilon = {fn_city_df['input_ratios'].max():0.3}$\"\n",
    "fig.suptitle(f\"{city_suptitle}\\n{beta_suptitle}\", fontsize=25)\n",
    "\n",
    "file_name = f\"{fx.area}-flatnorm-input-ratios_{num_regions}_regions\"\n",
    "close_fig(fig, to_file=f\"{fx.fig_dir}/{file_name}.png\", show=True)\n",
    "beta_mean, beta_std\n"
   ],
   "metadata": {
    "collapsed": false,
    "pycharm": {
     "name": "#%%\n"
    }
   }
  },
  {
   "cell_type": "code",
   "execution_count": null,
   "outputs": [],
   "source": [],
   "metadata": {
    "collapsed": false,
    "pycharm": {
     "name": "#%%\n"
    }
   }
  },
  {
   "cell_type": "code",
   "execution_count": null,
   "outputs": [],
   "source": [],
   "metadata": {
    "collapsed": false,
    "pycharm": {
     "name": "#%%\n"
    }
   }
  },
  {
   "cell_type": "code",
   "execution_count": null,
   "outputs": [],
   "source": [],
   "metadata": {
    "collapsed": false,
    "pycharm": {
     "name": "#%%\n"
    }
   }
  },
  {
   "cell_type": "markdown",
   "source": [
    "## plot regions and stats"
   ],
   "metadata": {
    "collapsed": false,
    "pycharm": {
     "name": "#%% md\n"
    }
   }
  },
  {
   "cell_type": "code",
   "execution_count": null,
   "outputs": [],
   "source": [
    "# a = [1, 2, 3]\n",
    "a = []\n",
    "b = \"abc\"\n",
    "list(zip(a, b))"
   ],
   "metadata": {
    "collapsed": false,
    "pycharm": {
     "name": "#%%\n"
    }
   }
  },
  {
   "cell_type": "markdown",
   "source": [
    "### plot_selected_regions()"
   ],
   "metadata": {
    "collapsed": false,
    "pycharm": {
     "name": "#%% md\n"
    }
   }
  },
  {
   "cell_type": "code",
   "execution_count": null,
   "outputs": [],
   "source": [
    "def plot_selected_regions(region_ids, fn_df, city_df, lambda_, epsilon=None,\n",
    "                          axd=dict(), axfn=list(), axtr=list(),\n",
    "                          **kwargs):\n",
    "    \"\"\"\n",
    "    :param kwargs:\n",
    "           plot_fn_vs_ratio ::\n",
    "                    highlight: set, titles: list, title_style: str, X_color: str, X_fontsize: int;\n",
    "                    if ax is None: figsize, constrained_layout\n",
    "    \"\"\"\n",
    "    kwargs.setdefault('titles', ['fn', 'beta', 'r2'])\n",
    "    kwargs.setdefault('title_style', \"ll\")\n",
    "    colors = {\n",
    "        # 'city': kwargs.get('city_color', 'xkcd:electric blue'),\n",
    "        # 'scatter': kwargs.get('scatter_color', 'xkcd:pastel blue'),\n",
    "        'highlight': kwargs.get('highlight_color', 'xkcd:pumpkin'),\n",
    "        # 'fn_mean': kwargs.get('fn_mean_color', 'xkcd:kelly green'),\n",
    "        # 'regression': kwargs.get('regression_color', 'red'),\n",
    "    }\n",
    "\n",
    "    if not axd:\n",
    "        fig, axd = plt.subplot_mosaic(\n",
    "            [\n",
    "                ['scatter', 'city'],\n",
    "            ],\n",
    "            figsize=kwargs.get('figsize', (12, 6)), constrained_layout=True,\n",
    "            width_ratios= [ 3, 7],\n",
    "            gridspec_kw={'wspace': 0.05}\n",
    "            # gridspec_kw={'width_ratios': [ 3, 7]}\n",
    "        )\n",
    "        axfn = list()\n",
    "        axtr = list()\n",
    "\n",
    "    stats_data = plot_fn_vs_ratio(\n",
    "        fn_df, city_df, lambda_, epsilon=epsilon,\n",
    "        ax=axd['scatter'],\n",
    "        # flatnorm_df, fn_city_df, lambda_, ax=axs['S'],\n",
    "        # highlight=fn_df_lambda.loc[fn_df_lambda['flatnorms'] == 1, 'id'].to_list(),\n",
    "        highlight=region_ids,\n",
    "        **kwargs\n",
    "        # titles=['fn', 'beta', 'r2'],\n",
    "    )\n",
    "\n",
    "    # read geometries\n",
    "    act_geom, synt_geom, hull = fx.read_networks()\n",
    "    selected_regions = dict()\n",
    "    fn_df = fn_df.set_index('id')\n",
    "    for r_id in region_ids:\n",
    "        region_bounds = fn_df.loc[r_id, ['MIN_X', 'MIN_Y', 'MAX_X', 'MAX_Y']].to_list()\n",
    "        selected_regions[r_id] = sg.box(*region_bounds)\n",
    "\n",
    "    fx.plot_regions_list(\n",
    "        act_geom, synt_geom, list(selected_regions.values()), fx.area,\n",
    "        ax=axd['city'],\n",
    "        # ax=axs['C'],\n",
    "        region_color=colors['highlight'],\n",
    "        # file_name_sfx=f\"city\",\n",
    "        do_return=False, show=False,\n",
    "        **kwargs\n",
    "        # figsize=(40, 20)\n",
    "    )\n",
    "\n",
    "    # plot regions' fn\n",
    "    if axfn or axtr:\n",
    "        which_titles = kwargs.get('region_titles', ['epsilon', 'ratio', 'fn'])\n",
    "        for r, r_id in enumerate(region_ids):\n",
    "            # flat norm\n",
    "            # epsilon = fn_df.at[r_id, 'epsilons']\n",
    "            epsilon, ratio, fnorm = fn_df.loc[r_id, ['epsilons', 'input_ratios', 'flatnorms']]\n",
    "            region = selected_regions[r_id]\n",
    "            titles = {\n",
    "                'lambda': f\"$\\\\lambda = {lambda_:d}$\",\n",
    "                'epsilon': f\"$\\\\epsilon = {epsilon}$\",\n",
    "                'ratio': f\"$|T|/\\\\epsilon = {ratio:0.3g}$\",\n",
    "                'fn': f\"$F_{{\\\\lambda}}={fnorm:0.3g}$\",\n",
    "            }\n",
    "            title = \", \".join([titles[t_name] for t_name in which_titles])\n",
    "\n",
    "            D, T1, T2 = fx.get_triangulated_currents(region, act_geom, synt_geom, opts=\"ps\")\n",
    "            if axtr:\n",
    "                # tri_title = f\"$\\\\epsilon$ = {epsilon}\"\n",
    "                plot_triangulation(D[\"triangulated\"], T1, T2, axtr[r])\n",
    "                axtr[r].set_title(title, fontsize=kwargs.get('fontsize', 20))\n",
    "\n",
    "            if axfn:\n",
    "                fnorm, enorm, tnorm, w, plot_data = fx.compute_region_flatnorm(\n",
    "                    D=D, T1=T1, T2=T2,\n",
    "                    lambda_=lambda_,\n",
    "                    normalized=True,\n",
    "                    plot=True\n",
    "                )\n",
    "                # fnorm_title =  f\"$\\\\lambda = {lambda_:d}$, $F_{{\\\\lambda}}={fnorm:0.3g}$\"\n",
    "                plot_norm(plot_data['triangulated'], plot_data['echain'], plot_data['tchain'], axfn[r])\n",
    "                axfn[r].set_title(title, fontsize=20)\n",
    "\n",
    "\n",
    "    pass\n"
   ],
   "metadata": {
    "collapsed": false,
    "pycharm": {
     "name": "#%%\n"
    }
   }
  },
  {
   "cell_type": "markdown",
   "source": [
    "### F_lambda == 1"
   ],
   "metadata": {
    "collapsed": false,
    "pycharm": {
     "name": "#%% md\n"
    }
   }
  },
  {
   "cell_type": "code",
   "execution_count": null,
   "outputs": [],
   "source": [
    "l, lambda_ = 0, lambdas[0]\n",
    "\n",
    "idx = pd.IndexSlice\n",
    "fn_df_lambda = flatnorm_df.loc[idx[:, lambda_], ].copy()\n",
    "fn_df_lambda.sort_values(by='flatnorms', ascending=False)"
   ],
   "metadata": {
    "collapsed": false,
    "pycharm": {
     "name": "#%%\n"
    }
   }
  },
  {
   "cell_type": "markdown",
   "source": [
    "#### lambda[0] == 1000"
   ],
   "metadata": {
    "collapsed": false,
    "pycharm": {
     "name": "#%% md\n"
    }
   }
  },
  {
   "cell_type": "code",
   "execution_count": null,
   "outputs": [],
   "source": [
    "lambdas = np.linspace(1000, 100000, 5, dtype=int)\n",
    "L = len(lambdas)\n",
    "\n",
    "fig, axd = plt.subplot_mosaic(\n",
    "    [\n",
    "        # ['scatter', 'city'],\n",
    "        ['scatter', 'scatter', 'city', 'city', 'city'],\n",
    "        ['t1', 't2', 't3', 't4', 't5'],\n",
    "        # ['r1', 'r2', 'r3', 'r4', 'r5'],\n",
    "    ],\n",
    "    figsize=(25, 16), constrained_layout=True,\n",
    "    width_ratios= [2, 2, 2, 2, 2],\n",
    "    gridspec_kw={'wspace': 0.05}\n",
    ")\n",
    "# )\n",
    "\n",
    "l, lambda_ = 0, lambdas[0]\n",
    "\n",
    "idx = pd.IndexSlice\n",
    "fn_df_lambda = flatnorm_df.loc[idx[:, lambda_], ].copy()\n",
    "# selected_regions_ids=fn_df_lambda.loc[fn_df_lambda['flatnorms'] == 1, 'id'].to_list()\n",
    "\n",
    "\n",
    "selected_regions_ids = fn_df_lambda.sort_values(by='flatnorms', ascending=False)['id'].to_list()[:5]\n",
    "\n",
    "\n",
    "plot_selected_regions(\n",
    "    selected_regions_ids, flatnorm_df, fn_city_df, lambda_,\n",
    "    axd=axd,\n",
    "    axtr=[axd['t1'], axd['t2'], axd['t3'], axd['t4'], axd['t5']],\n",
    "    # axfn=[axd['r1'], axd['r2'], axd['r3'], axd['r4'], axd['r5'], ],\n",
    ")\n",
    "\n",
    "city_suptitle = f\"$\\\\it{{{fx.area}}} : |T|/\\\\epsilon = {city_ratio:0.3}$\"\n",
    "# fig.suptitle(f\"{city_suptitle}\\n{beta_suptitle}\", fontsize=25)\n",
    "fig.suptitle(f\"{city_suptitle} : max fn\", fontsize=25)\n",
    "file_name = f\"{fx.area}-selected_regions_l{lambda_}_max_fn\"\n",
    "close_fig(fig, to_file=f\"{fx.fig_dir}/regions/{file_name}.png\", show=True)\n"
   ],
   "metadata": {
    "collapsed": false,
    "pycharm": {
     "name": "#%%\n"
    }
   }
  },
  {
   "cell_type": "code",
   "execution_count": null,
   "outputs": [],
   "source": [],
   "metadata": {
    "collapsed": false,
    "pycharm": {
     "name": "#%%\n"
    }
   }
  },
  {
   "cell_type": "markdown",
   "source": [
    "#### lambda[2] == 50500"
   ],
   "metadata": {
    "collapsed": false,
    "pycharm": {
     "name": "#%% md\n"
    }
   }
  },
  {
   "cell_type": "code",
   "execution_count": null,
   "outputs": [],
   "source": [
    "np.linspace(1000, 100000, 5, dtype=int)[4]"
   ],
   "metadata": {
    "collapsed": false,
    "pycharm": {
     "name": "#%%\n"
    }
   }
  },
  {
   "cell_type": "code",
   "execution_count": null,
   "outputs": [],
   "source": [
    "lambdas = np.linspace(1000, 100000, 5, dtype=int)\n",
    "L = len(lambdas)\n",
    "\n",
    "fig, axd = plt.subplot_mosaic(\n",
    "    [\n",
    "        # ['scatter', 'city'],\n",
    "        ['scatter', 'scatter', 'city', 'city', 'city'],\n",
    "        ['t1', 't2', 't3', 't4', 't5'],\n",
    "        # ['r1', 'r2', 'r3', 'r4', 'r5'],\n",
    "    ],\n",
    "    figsize=(25, 16), constrained_layout=True,\n",
    "    width_ratios= [2, 2, 2, 2, 2],\n",
    "    gridspec_kw={'wspace': 0.05}\n",
    ")\n",
    "# )\n",
    "\n",
    "l, lambda_ = 2, lambdas[2]\n",
    "\n",
    "idx = pd.IndexSlice\n",
    "fn_df_lambda = flatnorm_df.loc[idx[:, lambda_], ].copy()\n",
    "# selected_regions_ids=fn_df_lambda.loc[fn_df_lambda['flatnorms'] == 1, 'id'].to_list()\n",
    "\n",
    "\n",
    "selected_regions_ids = fn_df_lambda.sort_values(by='flatnorms', ascending=False)['id'].to_list()[:5]\n",
    "\n",
    "\n",
    "plot_selected_regions(\n",
    "    selected_regions_ids, flatnorm_df, fn_city_df, lambda_,\n",
    "    axd=axd,\n",
    "    axtr=[axd['t1'], axd['t2'], axd['t3'], axd['t4'], axd['t5']],\n",
    "    # axfn=[axd['r1'], axd['r2'], axd['r3'], axd['r4'], axd['r5'], ],\n",
    ")\n",
    "\n",
    "city_suptitle = f\"$\\\\it{{{fx.area}}} : |T|/\\\\epsilon = {city_ratio:0.3}$\"\n",
    "# fig.suptitle(f\"{city_suptitle}\\n{beta_suptitle}\", fontsize=25)\n",
    "fig.suptitle(f\"{city_suptitle} : max fn\", fontsize=25)\n",
    "file_name = f\"{fx.area}-selected_regions_l{lambda_}_max_fn\"\n",
    "close_fig(fig, to_file=f\"{fx.fig_dir}/regions/{file_name}.png\", show=True)\n"
   ],
   "metadata": {
    "collapsed": false,
    "pycharm": {
     "name": "#%%\n"
    }
   }
  },
  {
   "cell_type": "code",
   "execution_count": null,
   "outputs": [],
   "source": [],
   "metadata": {
    "collapsed": false,
    "pycharm": {
     "name": "#%%\n"
    }
   }
  },
  {
   "cell_type": "markdown",
   "source": [
    "#### lambda[4] == 100000"
   ],
   "metadata": {
    "collapsed": false,
    "pycharm": {
     "name": "#%% md\n"
    }
   }
  },
  {
   "cell_type": "code",
   "execution_count": null,
   "outputs": [],
   "source": [
    "lambdas = np.linspace(1000, 100000, 5, dtype=int)\n",
    "L = len(lambdas)\n",
    "\n",
    "fig, axd = plt.subplot_mosaic(\n",
    "    [\n",
    "        # ['scatter', 'city'],\n",
    "        ['scatter', 'scatter', 'city', 'city', 'city'],\n",
    "        ['t1', 't2', 't3', 't4', 't5'],\n",
    "        # ['r1', 'r2', 'r3', 'r4', 'r5'],\n",
    "    ],\n",
    "    figsize=(25, 16), constrained_layout=True,\n",
    "    width_ratios= [2, 2, 2, 2, 2],\n",
    "    gridspec_kw={'wspace': 0.05}\n",
    ")\n",
    "# )\n",
    "\n",
    "l, lambda_ = 4, lambdas[4]\n",
    "\n",
    "idx = pd.IndexSlice\n",
    "fn_df_lambda = flatnorm_df.loc[idx[:, lambda_], ].copy()\n",
    "# selected_regions_ids=fn_df_lambda.loc[fn_df_lambda['flatnorms'] == 1, 'id'].to_list()\n",
    "\n",
    "\n",
    "selected_regions_ids = fn_df_lambda.sort_values(by='flatnorms', ascending=False)['id'].to_list()[:5]\n",
    "\n",
    "\n",
    "plot_selected_regions(\n",
    "    selected_regions_ids, flatnorm_df, fn_city_df, lambda_,\n",
    "    axd=axd,\n",
    "    axtr=[axd['t1'], axd['t2'], axd['t3'], axd['t4'], axd['t5']],\n",
    "    # axfn=[axd['r1'], axd['r2'], axd['r3'], axd['r4'], axd['r5'], ],\n",
    ")\n",
    "\n",
    "city_suptitle = f\"$\\\\it{{{fx.area}}} : |T|/\\\\epsilon = {city_ratio:0.3}$\"\n",
    "# fig.suptitle(f\"{city_suptitle}\\n{beta_suptitle}\", fontsize=25)\n",
    "fig.suptitle(f\"{city_suptitle} : max fn\", fontsize=25)\n",
    "file_name = f\"{fx.area}-selected_regions_l{lambda_}_max_fn\"\n",
    "close_fig(fig, to_file=f\"{fx.fig_dir}/regions/{file_name}.png\", show=True)\n"
   ],
   "metadata": {
    "collapsed": false,
    "pycharm": {
     "name": "#%%\n"
    }
   }
  },
  {
   "cell_type": "code",
   "execution_count": null,
   "outputs": [],
   "source": [],
   "metadata": {
    "collapsed": false,
    "pycharm": {
     "name": "#%%\n"
    }
   }
  },
  {
   "cell_type": "code",
   "execution_count": null,
   "outputs": [],
   "source": [],
   "metadata": {
    "collapsed": false,
    "pycharm": {
     "name": "#%%\n"
    }
   }
  },
  {
   "cell_type": "code",
   "execution_count": null,
   "outputs": [],
   "source": [],
   "metadata": {
    "collapsed": false,
    "pycharm": {
     "name": "#%%\n"
    }
   }
  },
  {
   "cell_type": "markdown",
   "source": [
    "### closest to city"
   ],
   "metadata": {
    "collapsed": false,
    "pycharm": {
     "name": "#%% md\n"
    }
   }
  },
  {
   "cell_type": "code",
   "execution_count": null,
   "outputs": [],
   "source": [
    "city_ratio = fn_city_df['input_ratios'].max()"
   ],
   "metadata": {
    "collapsed": false,
    "pycharm": {
     "name": "#%%\n"
    }
   }
  },
  {
   "cell_type": "code",
   "execution_count": null,
   "outputs": [],
   "source": [
    "fn_df_lambda['to_city'] = abs(fn_df_lambda['input_ratios'] - city_ratio)\n",
    "fn_df_lambda.sort_values(by='to_city', ascending=True) #['id'].to_list()[:5]"
   ],
   "metadata": {
    "collapsed": false,
    "pycharm": {
     "name": "#%%\n"
    }
   }
  },
  {
   "cell_type": "markdown",
   "source": [
    "#### lambda[0] == 1000"
   ],
   "metadata": {
    "collapsed": false,
    "pycharm": {
     "name": "#%% md\n"
    }
   }
  },
  {
   "cell_type": "code",
   "execution_count": null,
   "outputs": [],
   "source": [
    "lambdas = np.linspace(1000, 100000, 5, dtype=int)\n",
    "L = len(lambdas)\n",
    "\n",
    "fig, axd = plt.subplot_mosaic(\n",
    "    [\n",
    "        ['scatter', 'scatter', 'city', 'city', 'city'],\n",
    "        ['t1', 't2', 't3', 't4', 't5'],\n",
    "        # ['r1', 'r2', 'r3', 'r4', 'r5'],\n",
    "    ],\n",
    "    figsize=(25, 16), constrained_layout=True,\n",
    "    width_ratios= [2, 2, 2, 2, 2],\n",
    "    gridspec_kw={'wspace': 0.05}\n",
    ")\n",
    "\n",
    "l, lambda_ = 0, lambdas[0]\n",
    "\n",
    "idx = pd.IndexSlice\n",
    "fn_df_lambda = flatnorm_df.loc[idx[:, lambda_], ].copy()\n",
    "\n",
    "city_ratio = fn_city_df['input_ratios'].max()\n",
    "fn_df_lambda['to_city'] = abs(fn_df_lambda['input_ratios'] - city_ratio)\n",
    "selected_regions_ids = fn_df_lambda.sort_values(by='to_city', ascending=True)['id'].to_list()[:5]\n",
    "\n",
    "plot_selected_regions(\n",
    "    selected_regions_ids, flatnorm_df, fn_city_df, lambda_,\n",
    "    axd=axd,\n",
    "    axtr=[axd['t1'], axd['t2'], axd['t3'], axd['t4'], axd['t5']],\n",
    "    # axfn=[axd['r1'], axd['r2'], axd['r3'], axd['r4'], axd['r5'], ],\n",
    "    titles=['fn', 'corr', 'r2'],\n",
    ")\n",
    "\n",
    "city_suptitle = f\"$\\\\it{{{fx.area}}} : |T|/\\\\epsilon = {city_ratio:0.3}$\"\n",
    "fig.suptitle(f\"{city_suptitle}: close to city\", fontsize=25)\n",
    "file_name = f\"{fx.area}-selected_regions_l{lambda_}_close_to_city\"\n",
    "close_fig(fig, to_file=f\"{fx.fig_dir}/regions/{file_name}.png\", show=True)\n"
   ],
   "metadata": {
    "collapsed": false,
    "pycharm": {
     "name": "#%%\n"
    }
   }
  },
  {
   "cell_type": "markdown",
   "source": [
    "#### lambda[2] == 50500"
   ],
   "metadata": {
    "collapsed": false,
    "pycharm": {
     "name": "#%% md\n"
    }
   }
  },
  {
   "cell_type": "code",
   "execution_count": null,
   "outputs": [],
   "source": [
    "lambdas = np.linspace(1000, 100000, 5, dtype=int)\n",
    "L = len(lambdas)\n",
    "\n",
    "fig, axd = plt.subplot_mosaic(\n",
    "    [\n",
    "        ['scatter', 'scatter', 'city', 'city', 'city'],\n",
    "        ['t1', 't2', 't3', 't4', 't5'],\n",
    "        # ['r1', 'r2', 'r3', 'r4', 'r5'],\n",
    "    ],\n",
    "    figsize=(26, 16), constrained_layout=True,\n",
    "    gridspec_kw={'width_ratios': [2, 2, 2, 2, 2]}\n",
    ")\n",
    "\n",
    "l, lambda_ = 2, lambdas[2]\n",
    "\n",
    "idx = pd.IndexSlice\n",
    "fn_df_lambda = flatnorm_df.loc[idx[:, lambda_], ].copy()\n",
    "\n",
    "city_ratio = fn_city_df['input_ratios'].max()\n",
    "fn_df_lambda['to_city'] = abs(fn_df_lambda['input_ratios'] - city_ratio)\n",
    "selected_regions_ids = fn_df_lambda.sort_values(by='to_city', ascending=True)['id'].to_list()[:5]\n",
    "\n",
    "plot_selected_regions(\n",
    "    selected_regions_ids, flatnorm_df, fn_city_df, lambda_,\n",
    "    axd=axd,\n",
    "    axtr=[axd['t1'], axd['t2'], axd['t3'], axd['t4'], axd['t5']],\n",
    "    # axfn=[axd['r1'], axd['r2'], axd['r3'], axd['r4'], axd['r5'], ],\n",
    "    titles=['fn', 'corr', 'r2'],\n",
    ")\n",
    "\n",
    "\n",
    "city_suptitle = f\"$\\\\it{{{fx.area}}} : |T|/\\\\epsilon = {city_ratio:0.3}$\"\n",
    "fig.suptitle(f\"{city_suptitle}: close to city\", fontsize=25)\n",
    "file_name = f\"{fx.area}-selected_regions_l{lambda_}_close_to_city\"\n",
    "close_fig(fig, to_file=f\"{fx.fig_dir}/regions/{file_name}.png\", show=True)\n"
   ],
   "metadata": {
    "collapsed": false,
    "pycharm": {
     "name": "#%%\n"
    }
   }
  },
  {
   "cell_type": "code",
   "execution_count": null,
   "outputs": [],
   "source": [],
   "metadata": {
    "collapsed": false,
    "pycharm": {
     "name": "#%%\n"
    }
   }
  },
  {
   "cell_type": "markdown",
   "source": [
    "#### lambda[4] == 100000"
   ],
   "metadata": {
    "collapsed": false,
    "pycharm": {
     "name": "#%% md\n"
    }
   }
  },
  {
   "cell_type": "code",
   "execution_count": null,
   "outputs": [],
   "source": [
    "lambdas = np.linspace(1000, 100000, 5, dtype=int)\n",
    "L = len(lambdas)\n",
    "\n",
    "fig, axd = plt.subplot_mosaic(\n",
    "    [\n",
    "        ['scatter', 'scatter', 'city', 'city', 'city'],\n",
    "        ['t1', 't2', 't3', 't4', 't5'],\n",
    "        # ['r1', 'r2', 'r3', 'r4', 'r5'],\n",
    "    ],\n",
    "    figsize=(26, 16), constrained_layout=True,\n",
    "    width_ratios= [2, 2, 2, 2, 2],\n",
    "    gridspec_kw={'wspace': 0.05}\n",
    ")\n",
    "\n",
    "l, lambda_ = 4, lambdas[4]\n",
    "\n",
    "idx = pd.IndexSlice\n",
    "fn_df_lambda = flatnorm_df.loc[idx[:, lambda_], ].copy()\n",
    "\n",
    "city_ratio = fn_city_df['input_ratios'].max()\n",
    "fn_df_lambda['to_city'] = abs(fn_df_lambda['input_ratios'] - city_ratio)\n",
    "selected_regions_ids = fn_df_lambda.sort_values(by='to_city', ascending=True)['id'].to_list()[:5]\n",
    "\n",
    "plot_selected_regions(\n",
    "    selected_regions_ids, flatnorm_df, fn_city_df, lambda_,\n",
    "    axd=axd,\n",
    "    axtr=[axd['t1'], axd['t2'], axd['t3'], axd['t4'], axd['t5']],\n",
    "    # axfn=[axd['r1'], axd['r2'], axd['r3'], axd['r4'], axd['r5'], ],\n",
    "    titles=['fn', 'corr', 'r2'],\n",
    ")\n",
    "\n",
    "city_suptitle = f\"$\\\\it{{{fx.area}}} : |T|/\\\\epsilon = {city_ratio:0.3}$\"\n",
    "fig.suptitle(f\"{city_suptitle}: close to city\", fontsize=25)\n",
    "file_name = f\"{fx.area}-selected_regions_l{lambda_}_close_to_city\"\n",
    "close_fig(fig, to_file=f\"{fx.fig_dir}/regions/{file_name}.png\", show=True)\n"
   ],
   "metadata": {
    "collapsed": false,
    "pycharm": {
     "name": "#%%\n"
    }
   }
  },
  {
   "cell_type": "code",
   "execution_count": null,
   "outputs": [],
   "source": [],
   "metadata": {
    "collapsed": false,
    "pycharm": {
     "name": "#%%\n"
    }
   }
  },
  {
   "cell_type": "markdown",
   "source": [
    "### smallest flatnorm"
   ],
   "metadata": {
    "collapsed": false,
    "pycharm": {
     "name": "#%% md\n"
    }
   }
  },
  {
   "cell_type": "code",
   "execution_count": null,
   "outputs": [],
   "source": [
    "fn_df_lambda.sort_values(by='to_city', ascending=True)"
   ],
   "metadata": {
    "collapsed": false,
    "pycharm": {
     "name": "#%%\n"
    }
   }
  },
  {
   "cell_type": "markdown",
   "source": [
    "#### lambda[0] == 1000"
   ],
   "metadata": {
    "collapsed": false,
    "pycharm": {
     "name": "#%% md\n"
    }
   }
  },
  {
   "cell_type": "code",
   "execution_count": null,
   "outputs": [],
   "source": [
    "lambdas = np.linspace(1000, 100000, 5, dtype=int)\n",
    "L = len(lambdas)\n",
    "\n",
    "fig, axd = plt.subplot_mosaic(\n",
    "    [\n",
    "        ['scatter', 'scatter', 'city', 'city', 'city'],\n",
    "        ['t1', 't2', 't3', 't4', 't5'],\n",
    "        # ['r1', 'r2', 'r3', 'r4', 'r5'],\n",
    "    ],\n",
    "    figsize=(26, 16), constrained_layout=True,\n",
    "    width_ratios= [2, 2, 2, 2, 2],\n",
    "    gridspec_kw={'wspace': 0.05}\n",
    ")\n",
    "\n",
    "l, lambda_ = 0, lambdas[0]\n",
    "\n",
    "idx = pd.IndexSlice\n",
    "city_ratio = fn_city_df['input_ratios'].max()\n",
    "fn_df_lambda = flatnorm_df.loc[idx[:, lambda_], ].copy()\n",
    "\n",
    "selected_regions_ids = fn_df_lambda.sort_values(by='flatnorms', ascending=True)['id'].to_list()[:5]\n",
    "\n",
    "plot_selected_regions(\n",
    "    selected_regions_ids, flatnorm_df, fn_city_df, lambda_,\n",
    "    axd=axd,\n",
    "    axtr=[axd['t1'], axd['t2'], axd['t3'], axd['t4'], axd['t5']],\n",
    "    titles=['fn', 'corr', 'r2'],\n",
    "    # axfn=[axd['r1'], axd['r2'], axd['r3'], axd['r4'], axd['r5']]\n",
    ")\n",
    "\n",
    "city_suptitle = f\"$\\\\it{{{fx.area}}} : |T|/\\\\epsilon = {city_ratio:0.3}$\"\n",
    "fig.suptitle(f\"{city_suptitle}: min fn\", fontsize=25)\n",
    "file_name = f\"{fx.area}-selected_regions_l{lambda_}_min_fn\"\n",
    "close_fig(fig, to_file=f\"{fx.fig_dir}/regions/{file_name}.png\", show=True)\n"
   ],
   "metadata": {
    "collapsed": false,
    "pycharm": {
     "name": "#%%\n"
    }
   }
  },
  {
   "cell_type": "code",
   "execution_count": null,
   "outputs": [],
   "source": [
    "fx.fig_dir"
   ],
   "metadata": {
    "collapsed": false,
    "pycharm": {
     "name": "#%%\n"
    }
   }
  },
  {
   "cell_type": "markdown",
   "source": [
    "#### lambda[2] == 50500"
   ],
   "metadata": {
    "collapsed": false,
    "pycharm": {
     "name": "#%% md\n"
    }
   }
  },
  {
   "cell_type": "code",
   "execution_count": null,
   "outputs": [],
   "source": [
    "lambdas = np.linspace(1000, 100000, 5, dtype=int)\n",
    "L = len(lambdas)\n",
    "\n",
    "fig, axd = plt.subplot_mosaic(\n",
    "    [\n",
    "        ['scatter', 'scatter', 'city', 'city', 'city'],\n",
    "        ['t1', 't2', 't3', 't4', 't5'],\n",
    "        # ['r1', 'r2', 'r3', 'r4', 'r5'],\n",
    "    ],\n",
    "    figsize=(26, 16), constrained_layout=True,\n",
    "    width_ratios= [2, 2, 2, 2, 2],\n",
    "    gridspec_kw={'wspace': 0.05}\n",
    ")\n",
    "\n",
    "l, lambda_ = 2, lambdas[2]\n",
    "\n",
    "idx = pd.IndexSlice\n",
    "city_ratio = fn_city_df['input_ratios'].max()\n",
    "fn_df_lambda = flatnorm_df.loc[idx[:, lambda_], ].copy()\n",
    "\n",
    "# fn_df_lambda['to_city'] = abs(fn_df_lambda['input_ratios'] - city_ratio)\n",
    "selected_regions_ids = fn_df_lambda.sort_values(by='flatnorms', ascending=True)['id'].to_list()[:5]\n",
    "\n",
    "plot_selected_regions(\n",
    "    selected_regions_ids, flatnorm_df, fn_city_df, lambda_,\n",
    "    axd=axd,\n",
    "    axtr=[axd['t1'], axd['t2'], axd['t3'], axd['t4'], axd['t5']],\n",
    "    # axfn=[axd['r1'], axd['r2'], axd['r3'], axd['r4'], axd['r5']]\n",
    ")\n",
    "\n",
    "# import statistics\n",
    "\n",
    "# beta_suptitle = f\"mean($\\\\hat{{\\\\beta}}$)={beta_mean:0.4f}, sd($\\\\hat{{\\\\beta}}$)={beta_std:0.4f}\"\n",
    "city_suptitle = f\"$\\\\it{{{fx.area}}} : |T|/\\\\epsilon = {city_ratio:0.3}$\"\n",
    "# fig.suptitle(f\"{city_suptitle}\\n{beta_suptitle}\", fontsize=25)\n",
    "fig.suptitle(f\"{city_suptitle}: min fn\", fontsize=25)\n",
    "file_name = f\"{fx.area}-selected_regions_l{lambda_}_min_fn\"\n",
    "close_fig(fig, to_file=f\"{fx.fig_dir}/regions/{file_name}.png\", show=True)\n"
   ],
   "metadata": {
    "collapsed": false,
    "pycharm": {
     "name": "#%%\n"
    }
   }
  },
  {
   "cell_type": "code",
   "execution_count": null,
   "outputs": [],
   "source": [],
   "metadata": {
    "collapsed": false,
    "pycharm": {
     "name": "#%%\n"
    }
   }
  },
  {
   "cell_type": "markdown",
   "source": [
    "#### lambda[4] == 100000"
   ],
   "metadata": {
    "collapsed": false,
    "pycharm": {
     "name": "#%% md\n"
    }
   }
  },
  {
   "cell_type": "code",
   "execution_count": null,
   "outputs": [],
   "source": [
    "lambdas = np.linspace(1000, 100000, 5, dtype=int)\n",
    "L = len(lambdas)\n",
    "\n",
    "fig, axd = plt.subplot_mosaic(\n",
    "    [\n",
    "        ['scatter', 'scatter', 'city', 'city', 'city'],\n",
    "        ['t1', 't2', 't3', 't4', 't5'],\n",
    "        # ['r1', 'r2', 'r3', 'r4', 'r5'],\n",
    "    ],\n",
    "    figsize=(26, 16), constrained_layout=True,\n",
    "    width_ratios= [2, 2, 2, 2, 2],\n",
    "    gridspec_kw={'wspace': 0.05}\n",
    ")\n",
    "\n",
    "l, lambda_ = 4, lambdas[4]\n",
    "\n",
    "idx = pd.IndexSlice\n",
    "city_ratio = fn_city_df['input_ratios'].max()\n",
    "fn_df_lambda = flatnorm_df.loc[idx[:, lambda_], ].copy()\n",
    "\n",
    "selected_regions_ids = fn_df_lambda.sort_values(by='flatnorms', ascending=True)['id'].to_list()[:5]\n",
    "\n",
    "plot_selected_regions(\n",
    "    selected_regions_ids, flatnorm_df, fn_city_df, lambda_,\n",
    "    axd=axd,\n",
    "    axtr=[axd['t1'], axd['t2'], axd['t3'], axd['t4'], axd['t5']],\n",
    "    titles=['fn', 'corr', 'r2'],\n",
    "    # axfn=[axd['r1'], axd['r2'], axd['r3'], axd['r4'], axd['r5']]\n",
    ")\n",
    "\n",
    "city_suptitle = f\"$\\\\it{{{fx.area}}} : |T|/\\\\epsilon = {city_ratio:0.3}$\"\n",
    "fig.suptitle(f\"{city_suptitle}: min fn\", fontsize=25)\n",
    "file_name = f\"{fx.area}-selected_regions_l{lambda_}_min_fn\"\n",
    "close_fig(fig, to_file=f\"{fx.fig_dir}/regions/{file_name}.png\", show=True)\n"
   ],
   "metadata": {
    "collapsed": false,
    "pycharm": {
     "name": "#%%\n"
    }
   }
  },
  {
   "cell_type": "code",
   "execution_count": null,
   "outputs": [],
   "source": [],
   "metadata": {
    "collapsed": false,
    "pycharm": {
     "name": "#%%\n"
    }
   }
  },
  {
   "cell_type": "markdown",
   "source": [
    "### below reg line"
   ],
   "metadata": {
    "collapsed": false,
    "pycharm": {
     "name": "#%% md\n"
    }
   }
  },
  {
   "cell_type": "code",
   "execution_count": null,
   "outputs": [],
   "source": [
    "reg_coefs_data"
   ],
   "metadata": {
    "collapsed": false,
    "pycharm": {
     "name": "#%%\n"
    }
   }
  },
  {
   "cell_type": "code",
   "execution_count": null,
   "outputs": [],
   "source": [
    "lambdas = np.linspace(1000, 100000, 5, dtype=int)\n",
    "L = len(lambdas)\n",
    "l, lambda_ = 4, lambdas[4]\n",
    "\n",
    "idx = pd.IndexSlice\n",
    "city_ratio = fn_city_df['input_ratios'].max()\n",
    "fn_df_lambda = flatnorm_df.loc[idx[:, lambda_], ].copy()\n",
    "fn_df_lambda"
   ],
   "metadata": {
    "collapsed": false,
    "pycharm": {
     "name": "#%%\n"
    }
   }
  },
  {
   "cell_type": "code",
   "execution_count": null,
   "outputs": [],
   "source": [
    "a, b = reg_coefs_data.loc[lambda_, ['a', 'b']]\n",
    "fn_df_lambda['fn_hat'] = a + b * fn_df_lambda['input_ratios']\n",
    "fn_df_lambda['fn_hat_0'] =fn_df_lambda['flatnorms'] -  fn_df_lambda['fn_hat']\n",
    "fn_df_lambda"
   ],
   "metadata": {
    "collapsed": false,
    "pycharm": {
     "name": "#%%\n"
    }
   }
  },
  {
   "cell_type": "code",
   "execution_count": null,
   "outputs": [],
   "source": [],
   "metadata": {
    "collapsed": false,
    "pycharm": {
     "name": "#%%\n"
    }
   }
  },
  {
   "cell_type": "code",
   "execution_count": null,
   "outputs": [],
   "source": [],
   "metadata": {
    "collapsed": false,
    "pycharm": {
     "name": "#%%\n"
    }
   }
  },
  {
   "cell_type": "code",
   "execution_count": null,
   "outputs": [],
   "source": [],
   "metadata": {
    "collapsed": false,
    "pycharm": {
     "name": "#%%\n"
    }
   }
  },
  {
   "cell_type": "markdown",
   "source": [
    "#### lambda[0] == 1000"
   ],
   "metadata": {
    "collapsed": false,
    "pycharm": {
     "name": "#%% md\n"
    }
   }
  },
  {
   "cell_type": "code",
   "execution_count": null,
   "outputs": [],
   "source": [],
   "metadata": {
    "collapsed": false,
    "pycharm": {
     "name": "#%%\n"
    }
   }
  },
  {
   "cell_type": "markdown",
   "source": [
    "#### lambda[2] == 50500"
   ],
   "metadata": {
    "collapsed": false,
    "pycharm": {
     "name": "#%% md\n"
    }
   }
  },
  {
   "cell_type": "code",
   "execution_count": null,
   "outputs": [],
   "source": [],
   "metadata": {
    "collapsed": false,
    "pycharm": {
     "name": "#%%\n"
    }
   }
  },
  {
   "cell_type": "markdown",
   "source": [
    "#### lambda[4] == 100000"
   ],
   "metadata": {
    "collapsed": false,
    "pycharm": {
     "name": "#%% md\n"
    }
   }
  },
  {
   "cell_type": "code",
   "execution_count": null,
   "outputs": [],
   "source": [],
   "metadata": {
    "collapsed": false,
    "pycharm": {
     "name": "#%%\n"
    }
   }
  },
  {
   "cell_type": "code",
   "execution_count": null,
   "outputs": [],
   "source": [],
   "metadata": {
    "collapsed": false,
    "pycharm": {
     "name": "#%%\n"
    }
   }
  },
  {
   "cell_type": "code",
   "execution_count": null,
   "outputs": [],
   "source": [],
   "metadata": {
    "collapsed": false,
    "pycharm": {
     "name": "#%%\n"
    }
   }
  },
  {
   "cell_type": "markdown",
   "source": [
    "\n",
    "# Hethwood"
   ],
   "metadata": {
    "collapsed": false,
    "pycharm": {
     "name": "#%% md\n"
    }
   }
  },
  {
   "cell_type": "code",
   "execution_count": null,
   "outputs": [],
   "source": [],
   "metadata": {
    "collapsed": false,
    "pycharm": {
     "name": "#%%\n"
    }
   }
  },
  {
   "cell_type": "code",
   "execution_count": null,
   "outputs": [],
   "source": [
    "fx_heth = FlatNormFixture('runTest')\n",
    "fx_heth.fig_dir = \"figs/notebooks\"\n",
    "fx_heth.out_dir = \"outs/notebooks\"\n",
    "fx_heth.area = 'hethwood'\n"
   ],
   "metadata": {
    "collapsed": false,
    "pycharm": {
     "name": "#%%\n"
    }
   }
  },
  {
   "cell_type": "code",
   "execution_count": null,
   "outputs": [],
   "source": [
    "# read geometries\n",
    "mc_act_geom, mc_synt_geom, mc_hull = fx.read_networks(fx.area)\n",
    "heth_act_geom, heth_synt_geom, heth_hull = fx_heth.read_networks(fx_heth.area)\n",
    "\n",
    "mc_bounds = mc_hull.exterior.bounds\n",
    "mc_width, mc_height = mc_bounds[MAX_X] - mc_bounds[MIN_X], mc_bounds[MAX_Y] - mc_bounds[MIN_Y]\n",
    "mc_epsilon = max(mc_width/2, mc_height/2)\n",
    "\n",
    "heth_bounds = heth_hull.exterior.bounds\n",
    "heth_width, heth_height = heth_bounds[MAX_X] - heth_bounds[MIN_X], heth_bounds[MAX_Y] - heth_bounds[MIN_Y]\n",
    "heth_epsilon = max(heth_width/2, heth_height/2)\n",
    "\n",
    "mc_epsilon, heth_epsilon"
   ],
   "metadata": {
    "collapsed": false,
    "pycharm": {
     "name": "#%%\n"
    }
   }
  },
  {
   "cell_type": "code",
   "execution_count": null,
   "outputs": [],
   "source": [
    "mc_epsilon"
   ],
   "metadata": {
    "collapsed": false,
    "pycharm": {
     "name": "#%%\n"
    }
   }
  },
  {
   "cell_type": "code",
   "execution_count": null,
   "outputs": [],
   "source": [
    "len(mc_act_geom), len(mc_synt_geom), len(heth_act_geom), len(heth_synt_geom)\n"
   ],
   "metadata": {
    "collapsed": false,
    "pycharm": {
     "name": "#%%\n"
    }
   }
  },
  {
   "cell_type": "code",
   "execution_count": null,
   "outputs": [],
   "source": [
    "k = np.pi / 180.0\n",
    "mc_act_length = [g.length * k for g in mc_act_geom]\n",
    "mc_synt_length = [g.length * k for g in mc_synt_geom]\n",
    "sum(mc_act_length), sum(mc_synt_length), sum(mc_act_length) + sum(mc_synt_length)"
   ],
   "metadata": {
    "collapsed": false,
    "pycharm": {
     "name": "#%%\n"
    }
   }
  },
  {
   "cell_type": "code",
   "execution_count": null,
   "outputs": [],
   "source": [
    "k = np.pi / 180.0\n",
    "heth_act_length = [g.length * k for g in heth_act_geom]\n",
    "heth_synt_length = [g.length * k for g in heth_synt_geom]\n",
    "sum(heth_act_length), sum(heth_synt_length), sum(heth_act_length) + sum(heth_synt_length)"
   ],
   "metadata": {
    "collapsed": false,
    "pycharm": {
     "name": "#%%\n"
    }
   }
  },
  {
   "cell_type": "code",
   "execution_count": null,
   "outputs": [],
   "source": [
    "mc_act_geom[0].length\n"
   ],
   "metadata": {
    "collapsed": false,
    "pycharm": {
     "name": "#%%\n"
    }
   }
  },
  {
   "cell_type": "code",
   "execution_count": null,
   "outputs": [],
   "source": [
    "sg.box(*mc_hull.exterior.bounds).bounds"
   ],
   "metadata": {
    "collapsed": false,
    "pycharm": {
     "name": "#%%\n"
    }
   }
  },
  {
   "cell_type": "code",
   "execution_count": null,
   "outputs": [],
   "source": [
    "# mc_current_length = w\n",
    "mc_current_length"
   ],
   "metadata": {
    "collapsed": false,
    "pycharm": {
     "name": "#%%\n"
    }
   }
  },
  {
   "cell_type": "code",
   "execution_count": null,
   "outputs": [],
   "source": [
    "mc_current_length - (sum(mc_act_length) + sum(mc_synt_length))\n"
   ],
   "metadata": {
    "collapsed": false,
    "pycharm": {
     "name": "#%%\n"
    }
   }
  },
  {
   "cell_type": "code",
   "execution_count": null,
   "outputs": [],
   "source": [
    "min(mc_act_length + mc_synt_length), max(mc_act_length + mc_synt_length),"
   ],
   "metadata": {
    "collapsed": false,
    "pycharm": {
     "name": "#%%\n"
    }
   }
  },
  {
   "cell_type": "code",
   "execution_count": null,
   "outputs": [],
   "source": [
    "min(heth_act_length + heth_synt_length), max(heth_act_length + heth_synt_length),\n"
   ],
   "metadata": {
    "collapsed": false,
    "pycharm": {
     "name": "#%%\n"
    }
   }
  },
  {
   "cell_type": "code",
   "execution_count": null,
   "outputs": [],
   "source": [
    "len(heth_act_length + heth_synt_length), len(heth_act_length) + len(heth_synt_length),\n",
    "len(mc_act_length + mc_synt_length), len(mc_act_length) + len(mc_synt_length),"
   ],
   "metadata": {
    "collapsed": false,
    "pycharm": {
     "name": "#%%\n"
    }
   }
  },
  {
   "cell_type": "code",
   "execution_count": null,
   "outputs": [],
   "source": [
    "(\n",
    "        min(heth_act_length + heth_synt_length) < min(mc_act_length + mc_synt_length),\n",
    "        max(heth_act_length + heth_synt_length) < max(mc_act_length + mc_synt_length)\n",
    ")\n"
   ],
   "metadata": {
    "collapsed": false,
    "pycharm": {
     "name": "#%%\n"
    }
   }
  },
  {
   "cell_type": "code",
   "execution_count": null,
   "outputs": [],
   "source": [],
   "metadata": {
    "collapsed": false,
    "pycharm": {
     "name": "#%%\n"
    }
   }
  },
  {
   "cell_type": "code",
   "execution_count": null,
   "outputs": [],
   "source": [
    "min(heth_act_length + heth_synt_length) < min(mc_act_length + mc_synt_length)\n"
   ],
   "metadata": {
    "collapsed": false,
    "pycharm": {
     "name": "#%%\n"
    }
   }
  },
  {
   "cell_type": "code",
   "execution_count": null,
   "outputs": [],
   "source": [
    "D, T1, T2 = fx_heth.get_triangulated_currents(sg.box(*heth_bounds), heth_act_geom, heth_synt_geom, verbose=True)\n",
    "len(T1)\n"
   ],
   "metadata": {
    "collapsed": false,
    "pycharm": {
     "name": "#%%\n"
    }
   }
  },
  {
   "cell_type": "code",
   "execution_count": null,
   "outputs": [],
   "source": [],
   "metadata": {
    "collapsed": false,
    "pycharm": {
     "name": "#%%\n"
    }
   }
  }
 ],
 "metadata": {
  "kernelspec": {
   "display_name": "Python 3",
   "language": "python",
   "name": "python3"
  },
  "language_info": {
   "codemirror_mode": {
    "name": "ipython",
    "version": 2
   },
   "file_extension": ".py",
   "mimetype": "text/x-python",
   "name": "python",
   "nbconvert_exporter": "python",
   "pygments_lexer": "ipython2",
   "version": "2.7.6"
  }
 },
 "nbformat": 4,
 "nbformat_minor": 0
}